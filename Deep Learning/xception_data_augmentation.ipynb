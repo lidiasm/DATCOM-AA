{
  "nbformat": 4,
  "nbformat_minor": 0,
  "metadata": {
    "colab": {
      "name": "xception_data_augmentation.ipynb",
      "provenance": []
    },
    "kernelspec": {
      "name": "python3",
      "display_name": "Python 3"
    },
    "language_info": {
      "name": "python"
    },
    "accelerator": "GPU"
  },
  "cells": [
    {
      "cell_type": "code",
      "execution_count": 1,
      "metadata": {
        "id": "8O7iq2lbW34y"
      },
      "outputs": [],
      "source": [
        "# Carga de librerías \n",
        "import pandas as pd \n",
        "import numpy as np\n",
        "import tensorflow as tf\n",
        "from tensorflow.keras.preprocessing.image import ImageDataGenerator\n",
        "from tensorflow.keras.applications import Xception\n",
        "from tensorflow.keras.layers import Input, Flatten, Dense, Dropout\n",
        "from tensorflow.keras.models import Model, load_model\n",
        "from tensorflow.keras.optimizers import Adam"
      ]
    },
    {
      "cell_type": "code",
      "source": [
        "# Montamos el directorio Drive para obtener las imágenes\n",
        "from google.colab import drive\n",
        "drive.mount('/content/gdrive')"
      ],
      "metadata": {
        "colab": {
          "base_uri": "https://localhost:8080/"
        },
        "id": "bX182q_6W9oT",
        "outputId": "56977893-319a-4c75-e4aa-23bbe7dad411"
      },
      "execution_count": 2,
      "outputs": [
        {
          "output_type": "stream",
          "name": "stdout",
          "text": [
            "Drive already mounted at /content/gdrive; to attempt to forcibly remount, call drive.mount(\"/content/gdrive\", force_remount=True).\n"
          ]
        }
      ]
    },
    {
      "cell_type": "code",
      "source": [
        "# Parámetros de las imágenes\n",
        "HEIGHT = 224\n",
        "WIDTH = 224\n",
        "CHANNELS = 3\n",
        "N_CLASSES = 29\n",
        "TRAIN_DIR = \"/content/gdrive/MyDrive/Backup/DATCOM/AA/Sentinel2LULC_354/Sentinel2LULC_354/\"\n",
        "TEST_DIR = \"/content/gdrive/MyDrive/Backup/DATCOM/AA/Test 2\"\n",
        "\n",
        "# Parámetros de entrenamiento\n",
        "BATCH_SIZE = 64\n",
        "EPOCHS = 25\n",
        "LEARNING_RATE = 0.001 # default\n",
        "LOSS = 'categorical_crossentropy'\n",
        "METRICS = ['accuracy', 'AUC']"
      ],
      "metadata": {
        "id": "oeiUrFpAXAjH"
      },
      "execution_count": 3,
      "outputs": []
    },
    {
      "cell_type": "code",
      "source": [
        "# Leemos las imágenes de entrenamiento y las dividimos en 80% para entrenamiento\n",
        "# del modelo y 20% para validación \n",
        "train_datagenerator = ImageDataGenerator(rescale=1/255, \n",
        "                                         validation_split=0.2,\n",
        "                                         rotation_range=45,\n",
        "                                         width_shift_range=.15,\n",
        "                                         height_shift_range=.15,\n",
        "                                         horizontal_flip=True,\n",
        "                                         vertical_flip=True,\n",
        "                                         zoom_range=0.5)\n",
        "train_it = train_datagenerator.flow_from_directory(directory=TRAIN_DIR,\n",
        "                                                    target_size=(HEIGHT, WIDTH),\n",
        "                                                    class_mode='categorical',\n",
        "                                                    batch_size=BATCH_SIZE,\n",
        "                                                    subset='training')\n",
        "validation_it = train_datagenerator.flow_from_directory(directory=TRAIN_DIR,\n",
        "                                                        target_size=(HEIGHT, WIDTH),\n",
        "                                                        class_mode='categorical',\n",
        "                                                        batch_size=BATCH_SIZE,\n",
        "                                                        subset='validation')"
      ],
      "metadata": {
        "colab": {
          "base_uri": "https://localhost:8080/"
        },
        "id": "lTwAlM7oXCeK",
        "outputId": "5b3ad894-5af8-49c9-c0d5-3e133b513e32"
      },
      "execution_count": 4,
      "outputs": [
        {
          "output_type": "stream",
          "name": "stdout",
          "text": [
            "Found 8236 images belonging to 29 classes.\n",
            "Found 2030 images belonging to 29 classes.\n"
          ]
        }
      ]
    },
    {
      "cell_type": "code",
      "source": [
        "# Cargamos el modelo Xception con los pesos de haber sido enterenado con ImageNET\n",
        "base_model = Xception(weights='imagenet', include_top=False, input_shape=(HEIGHT, WIDTH, CHANNELS))\n",
        "print(\"Nº de capas: \", len(base_model.layers))"
      ],
      "metadata": {
        "colab": {
          "base_uri": "https://localhost:8080/"
        },
        "id": "lJK2XYfJXDKY",
        "outputId": "c0dcc4e1-7d39-44d3-941f-38d36a69450b"
      },
      "execution_count": 5,
      "outputs": [
        {
          "output_type": "stream",
          "name": "stdout",
          "text": [
            "Nº de capas:  132\n"
          ]
        }
      ]
    },
    {
      "cell_type": "code",
      "source": [
        "# PRIMERA VERSIÓN: sin re-entrenar ninguna capa\n",
        "base_model.trainable = False"
      ],
      "metadata": {
        "id": "O6VWh-8eXM0X"
      },
      "execution_count": null,
      "outputs": []
    },
    {
      "cell_type": "code",
      "source": [
        "# SEGUNDA VERSIÓN: finetuning re-entrenando algunas capas\n",
        "base_model.trainable = True\n",
        "# Número de capas a re-entrenar\n",
        "fine_tune_at = 50\n",
        "# Congelamos los pesos de todas las capas anteriores a las que se van a re-entrenar\n",
        "for layer in base_model.layers[:fine_tune_at]:\n",
        "  layer.trainable =  False"
      ],
      "metadata": {
        "id": "gh3WAO1KXKaI"
      },
      "execution_count": 6,
      "outputs": []
    },
    {
      "cell_type": "code",
      "source": [
        "# Adaptamos el modelo a nuestro problema\n",
        "input_layer = Input(shape=(HEIGHT, WIDTH, CHANNELS), name='input_image')\n",
        "output_conv = base_model(input_layer)\n",
        "x = Flatten(name='flatten')(output_conv) \n",
        "x = Dense(N_CLASSES, activation='softmax', name='classes')(x)\n",
        "model = Model(inputs=input_layer, outputs=x)\n",
        "opt = Adam(learning_rate=LEARNING_RATE)\n",
        "model.compile(optimizer=opt, loss=LOSS, metrics=METRICS)\n",
        "history = model.fit(train_it,\n",
        "          validation_data=validation_it,\n",
        "          steps_per_epoch=train_it.n // BATCH_SIZE,\n",
        "          validation_steps=validation_it.n // BATCH_SIZE,\n",
        "          epochs=EPOCHS,\n",
        "          workers=100,\n",
        "          use_multiprocessing=True)\n",
        "# Guardamos el modelo en un fichero\n",
        "model_filename = \"xception_model_data_augmentation.h5\"\n",
        "model.save(model_filename)"
      ],
      "metadata": {
        "colab": {
          "base_uri": "https://localhost:8080/"
        },
        "id": "mQ45dhuaXPC4",
        "outputId": "2ffbe12c-feb5-4659-c8ee-5ba57908032f"
      },
      "execution_count": 7,
      "outputs": [
        {
          "output_type": "stream",
          "name": "stdout",
          "text": [
            "Epoch 1/25\n",
            "128/128 [==============================] - 234s 2s/step - loss: 2.2654 - accuracy: 0.3254 - auc: 0.8686 - val_loss: 1.9038 - val_accuracy: 0.4632 - val_auc: 0.9243\n",
            "Epoch 2/25\n",
            "128/128 [==============================] - 165s 1s/step - loss: 0.9695 - accuracy: 0.6736 - auc: 0.9789 - val_loss: 2.1685 - val_accuracy: 0.5423 - val_auc: 0.9094\n",
            "Epoch 3/25\n",
            "128/128 [==============================] - 163s 1s/step - loss: 0.7806 - accuracy: 0.7391 - auc: 0.9849 - val_loss: 1.0030 - val_accuracy: 0.6719 - val_auc: 0.9734\n",
            "Epoch 4/25\n",
            "128/128 [==============================] - 162s 1s/step - loss: 0.6555 - accuracy: 0.7753 - auc: 0.9887 - val_loss: 1.0312 - val_accuracy: 0.7011 - val_auc: 0.9661\n",
            "Epoch 5/25\n",
            "128/128 [==============================] - 164s 1s/step - loss: 0.5389 - accuracy: 0.8105 - auc: 0.9919 - val_loss: 0.9767 - val_accuracy: 0.7157 - val_auc: 0.9692\n",
            "Epoch 6/25\n",
            "128/128 [==============================] - 166s 1s/step - loss: 0.5436 - accuracy: 0.8147 - auc: 0.9911 - val_loss: 0.8760 - val_accuracy: 0.7293 - val_auc: 0.9757\n",
            "Epoch 7/25\n",
            "128/128 [==============================] - 171s 1s/step - loss: 0.4976 - accuracy: 0.8282 - auc: 0.9928 - val_loss: 0.9229 - val_accuracy: 0.7263 - val_auc: 0.9763\n",
            "Epoch 8/25\n",
            "128/128 [==============================] - 167s 1s/step - loss: 0.4671 - accuracy: 0.8355 - auc: 0.9937 - val_loss: 0.8709 - val_accuracy: 0.7490 - val_auc: 0.9734\n",
            "Epoch 9/25\n",
            "128/128 [==============================] - 173s 1s/step - loss: 0.4499 - accuracy: 0.8403 - auc: 0.9941 - val_loss: 0.8367 - val_accuracy: 0.7203 - val_auc: 0.9809\n",
            "Epoch 10/25\n",
            "128/128 [==============================] - 163s 1s/step - loss: 0.4177 - accuracy: 0.8517 - auc: 0.9943 - val_loss: 0.9575 - val_accuracy: 0.7359 - val_auc: 0.9711\n",
            "Epoch 11/25\n",
            "128/128 [==============================] - 176s 1s/step - loss: 0.4109 - accuracy: 0.8570 - auc: 0.9948 - val_loss: 0.7906 - val_accuracy: 0.7762 - val_auc: 0.9786\n",
            "Epoch 12/25\n",
            "128/128 [==============================] - 164s 1s/step - loss: 0.4080 - accuracy: 0.8622 - auc: 0.9949 - val_loss: 0.9494 - val_accuracy: 0.7198 - val_auc: 0.9738\n",
            "Epoch 13/25\n",
            "128/128 [==============================] - 166s 1s/step - loss: 0.3965 - accuracy: 0.8617 - auc: 0.9948 - val_loss: 0.8656 - val_accuracy: 0.7475 - val_auc: 0.9769\n",
            "Epoch 14/25\n",
            "128/128 [==============================] - 164s 1s/step - loss: 0.3724 - accuracy: 0.8663 - auc: 0.9956 - val_loss: 0.7441 - val_accuracy: 0.7883 - val_auc: 0.9803\n",
            "Epoch 15/25\n",
            "128/128 [==============================] - 169s 1s/step - loss: 0.3540 - accuracy: 0.8744 - auc: 0.9958 - val_loss: 0.7626 - val_accuracy: 0.7576 - val_auc: 0.9845\n",
            "Epoch 16/25\n",
            "128/128 [==============================] - 165s 1s/step - loss: 0.3462 - accuracy: 0.8765 - auc: 0.9957 - val_loss: 0.6955 - val_accuracy: 0.7843 - val_auc: 0.9855\n",
            "Epoch 17/25\n",
            "128/128 [==============================] - 165s 1s/step - loss: 0.3430 - accuracy: 0.8784 - auc: 0.9961 - val_loss: 0.8365 - val_accuracy: 0.7676 - val_auc: 0.9740\n",
            "Epoch 18/25\n",
            "128/128 [==============================] - 163s 1s/step - loss: 0.3361 - accuracy: 0.8800 - auc: 0.9953 - val_loss: 0.7068 - val_accuracy: 0.7964 - val_auc: 0.9796\n",
            "Epoch 19/25\n",
            "128/128 [==============================] - 166s 1s/step - loss: 0.3377 - accuracy: 0.8781 - auc: 0.9963 - val_loss: 0.7859 - val_accuracy: 0.7807 - val_auc: 0.9755\n",
            "Epoch 20/25\n",
            "128/128 [==============================] - 169s 1s/step - loss: 0.3309 - accuracy: 0.8835 - auc: 0.9959 - val_loss: 0.8545 - val_accuracy: 0.7787 - val_auc: 0.9680\n",
            "Epoch 21/25\n",
            "128/128 [==============================] - 165s 1s/step - loss: 0.3180 - accuracy: 0.8901 - auc: 0.9958 - val_loss: 0.8225 - val_accuracy: 0.7747 - val_auc: 0.9745\n",
            "Epoch 22/25\n",
            "128/128 [==============================] - 170s 1s/step - loss: 0.3101 - accuracy: 0.8851 - auc: 0.9965 - val_loss: 0.7244 - val_accuracy: 0.8039 - val_auc: 0.9783\n",
            "Epoch 23/25\n",
            "128/128 [==============================] - 165s 1s/step - loss: 0.2926 - accuracy: 0.8934 - auc: 0.9966 - val_loss: 0.7977 - val_accuracy: 0.7868 - val_auc: 0.9748\n",
            "Epoch 24/25\n",
            "128/128 [==============================] - 165s 1s/step - loss: 0.2908 - accuracy: 0.8964 - auc: 0.9969 - val_loss: 0.7597 - val_accuracy: 0.7818 - val_auc: 0.9790\n",
            "Epoch 25/25\n",
            "128/128 [==============================] - 174s 1s/step - loss: 0.2754 - accuracy: 0.9023 - auc: 0.9975 - val_loss: 0.7600 - val_accuracy: 0.8059 - val_auc: 0.9752\n"
          ]
        }
      ]
    },
    {
      "cell_type": "code",
      "source": [
        "# Cargamos las imágenes de test\n",
        "test_datagenerator = ImageDataGenerator(rescale=1./255)\n",
        "test_it = test_datagenerator.flow_from_directory(directory=TEST_DIR,\n",
        "                                                  target_size=(HEIGHT, WIDTH),\n",
        "                                                  batch_size= 1,\n",
        "                                                  class_mode=None,\n",
        "                                                  shuffle=False)\n",
        "# Reseteamos el iterador sobre las imágenes de test\n",
        "test_it.reset()\n",
        "\n",
        "# Predecimos con el modelo entrenado sobre las imágenes de test\n",
        "test_probs = model.predict(test_it, steps=test_it.samples)\n",
        "test_preds = np.argmax(test_probs, axis=1)\n",
        "print(\"\\nPredicciones: \", test_preds)\n",
        "\n",
        "# Construimos un traductor entre las etiquetas automáticamente generadas por Keras\n",
        "# y las reales a partir de los nombres de las carpetas de entrenamiento\n",
        "translated_train_labels = {train_it.class_indices[key]:int(key[:key.index(\"_\")]) \n",
        "                        for key in train_it.class_indices}\n",
        "print(\"\\nEtiquetas train: \", translated_train_labels)\n",
        "\n",
        "# Traducimos las etiquetas de test resultantes a las reales\n",
        "translated_test_preds = [translated_train_labels[label] for label in test_preds]\n",
        "print(\"\\nPredicciones reales: \", translated_test_preds)\n",
        "\n",
        "# Creamos el fichero de subida\n",
        "id_jpg_column = [test_img[(test_img.find(\"/\") + 1): ] for test_img in test_it.filenames]\n",
        "preds_dataset = pd.DataFrame({'id.jpg': id_jpg_column, 'label': translated_test_preds})\n",
        "preds_filename = \"submission_xception_data_aug.csv\"\n",
        "preds_dataset.to_csv(preds_filename, index=False)"
      ],
      "metadata": {
        "colab": {
          "base_uri": "https://localhost:8080/"
        },
        "id": "F6F4BwbTXRFp",
        "outputId": "59fb9f63-b336-4a2c-a343-d13ca33db50b"
      },
      "execution_count": 8,
      "outputs": [
        {
          "output_type": "stream",
          "name": "stdout",
          "text": [
            "Found 1618 images belonging to 1 classes.\n",
            "\n",
            "Predicciones:  [ 0  2  0 ... 28 28  5]\n",
            "\n",
            "Etiquetas train:  {0: 10, 1: 11, 2: 12, 3: 13, 4: 14, 5: 15, 6: 16, 7: 17, 8: 18, 9: 19, 10: 1, 11: 20, 12: 21, 13: 22, 14: 23, 15: 24, 16: 25, 17: 26, 18: 27, 19: 28, 20: 29, 21: 2, 22: 3, 23: 4, 24: 5, 25: 6, 26: 7, 27: 8, 28: 9}\n",
            "\n",
            "Predicciones reales:  [10, 12, 10, 10, 10, 11, 12, 10, 12, 11, 10, 10, 10, 10, 10, 12, 10, 10, 10, 10, 12, 10, 10, 10, 10, 10, 10, 10, 10, 13, 10, 10, 10, 10, 10, 11, 6, 10, 10, 10, 10, 22, 11, 11, 11, 11, 11, 11, 11, 14, 11, 11, 10, 11, 11, 11, 14, 11, 11, 11, 11, 11, 11, 17, 11, 11, 11, 11, 11, 11, 11, 11, 11, 11, 11, 11, 11, 11, 14, 11, 11, 11, 11, 11, 14, 14, 11, 11, 11, 14, 11, 11, 11, 11, 11, 12, 12, 12, 12, 12, 12, 12, 12, 13, 12, 12, 12, 12, 12, 12, 12, 12, 12, 12, 12, 12, 12, 13, 12, 12, 12, 12, 12, 12, 12, 12, 12, 12, 12, 12, 12, 12, 12, 12, 12, 12, 12, 12, 12, 12, 12, 12, 12, 12, 12, 12, 12, 12, 12, 12, 12, 12, 12, 12, 12, 12, 12, 12, 13, 13, 13, 13, 13, 13, 13, 13, 13, 13, 13, 13, 13, 13, 13, 13, 13, 13, 13, 13, 13, 13, 13, 13, 13, 13, 13, 13, 13, 13, 13, 13, 13, 13, 13, 13, 13, 13, 13, 13, 13, 13, 13, 13, 13, 13, 13, 7, 13, 13, 14, 13, 13, 13, 13, 13, 13, 14, 14, 14, 14, 14, 14, 14, 14, 14, 14, 14, 14, 14, 14, 14, 14, 14, 14, 14, 14, 14, 14, 14, 8, 14, 14, 14, 14, 14, 14, 14, 14, 14, 14, 14, 14, 14, 14, 14, 14, 14, 14, 14, 14, 14, 14, 14, 14, 14, 14, 14, 14, 14, 14, 14, 14, 14, 14, 14, 7, 14, 14, 14, 14, 14, 15, 15, 15, 15, 15, 15, 15, 15, 15, 15, 15, 15, 15, 15, 15, 15, 15, 15, 15, 15, 15, 15, 15, 15, 15, 15, 15, 15, 16, 15, 15, 18, 15, 15, 15, 15, 15, 15, 15, 15, 15, 15, 15, 15, 15, 15, 15, 16, 15, 15, 15, 15, 16, 7, 16, 16, 16, 16, 16, 16, 16, 16, 16, 5, 5, 16, 16, 16, 16, 16, 13, 16, 16, 6, 13, 16, 16, 16, 15, 16, 15, 16, 16, 16, 7, 16, 16, 6, 16, 16, 13, 16, 16, 16, 16, 16, 16, 16, 16, 16, 6, 16, 16, 6, 16, 16, 16, 16, 12, 16, 16, 15, 16, 16, 16, 16, 16, 16, 5, 16, 16, 16, 16, 16, 16, 17, 17, 17, 17, 17, 17, 17, 17, 17, 17, 17, 17, 13, 17, 17, 17, 17, 17, 17, 17, 17, 17, 17, 17, 17, 17, 17, 17, 17, 17, 17, 17, 17, 13, 17, 17, 13, 17, 17, 17, 17, 17, 17, 17, 17, 17, 17, 17, 17, 17, 17, 17, 17, 17, 17, 17, 17, 17, 17, 17, 17, 17, 17, 17, 17, 17, 17, 17, 17, 17, 17, 17, 17, 18, 18, 18, 18, 18, 18, 18, 18, 18, 18, 18, 18, 18, 18, 18, 18, 18, 18, 18, 18, 18, 18, 18, 18, 18, 18, 18, 18, 18, 18, 18, 18, 18, 18, 18, 18, 18, 18, 18, 18, 18, 18, 18, 18, 18, 18, 18, 18, 18, 18, 18, 18, 18, 18, 18, 18, 18, 18, 18, 18, 18, 18, 18, 18, 18, 18, 18, 18, 18, 18, 18, 18, 18, 18, 18, 18, 18, 18, 18, 18, 19, 19, 19, 19, 20, 19, 19, 22, 19, 19, 19, 20, 19, 19, 19, 19, 19, 19, 19, 19, 20, 19, 19, 19, 19, 20, 19, 19, 19, 19, 19, 19, 20, 19, 19, 19, 19, 19, 19, 19, 19, 19, 19, 20, 19, 19, 19, 19, 19, 19, 1, 1, 1, 1, 1, 1, 1, 1, 1, 1, 1, 1, 1, 1, 1, 1, 1, 1, 1, 1, 5, 1, 1, 1, 1, 1, 1, 1, 1, 1, 1, 1, 2, 2, 1, 26, 1, 1, 1, 1, 1, 1, 20, 20, 20, 20, 20, 18, 18, 20, 20, 9, 19, 20, 19, 20, 22, 20, 20, 20, 20, 20, 18, 20, 20, 20, 20, 18, 20, 20, 20, 20, 20, 20, 20, 20, 22, 20, 20, 20, 9, 20, 20, 20, 28, 20, 20, 20, 20, 20, 20, 21, 21, 21, 21, 21, 21, 21, 21, 21, 21, 21, 21, 21, 21, 21, 21, 21, 21, 21, 21, 21, 21, 21, 21, 21, 21, 22, 21, 21, 21, 21, 21, 21, 21, 21, 21, 21, 21, 21, 21, 21, 21, 21, 21, 21, 21, 21, 21, 21, 21, 21, 21, 21, 21, 21, 21, 21, 22, 21, 21, 21, 21, 22, 22, 22, 22, 22, 22, 22, 22, 22, 22, 22, 22, 21, 21, 21, 22, 21, 22, 22, 21, 21, 21, 21, 21, 21, 21, 21, 21, 21, 21, 21, 21, 21, 21, 21, 21, 21, 21, 21, 22, 22, 23, 23, 23, 23, 23, 23, 23, 23, 23, 23, 23, 23, 23, 23, 23, 23, 23, 23, 23, 23, 23, 23, 23, 23, 23, 23, 23, 23, 23, 23, 23, 23, 23, 23, 23, 23, 23, 23, 23, 23, 23, 23, 23, 23, 23, 23, 23, 23, 23, 23, 23, 23, 23, 23, 23, 23, 23, 23, 23, 23, 23, 23, 23, 23, 23, 23, 23, 23, 23, 23, 23, 23, 23, 23, 24, 24, 24, 24, 25, 24, 24, 24, 24, 24, 24, 24, 24, 25, 24, 24, 24, 24, 24, 24, 24, 24, 25, 24, 24, 24, 25, 24, 24, 24, 24, 25, 24, 25, 24, 24, 24, 24, 24, 24, 24, 24, 25, 24, 24, 24, 24, 25, 24, 25, 27, 25, 27, 25, 25, 26, 25, 25, 25, 27, 27, 25, 25, 25, 25, 26, 25, 25, 25, 25, 25, 25, 25, 25, 25, 25, 25, 25, 25, 25, 25, 25, 25, 25, 25, 25, 25, 25, 25, 25, 25, 25, 25, 25, 25, 25, 25, 25, 25, 25, 25, 25, 25, 25, 25, 27, 25, 25, 25, 25, 25, 25, 26, 26, 28, 26, 26, 26, 26, 26, 26, 26, 26, 26, 26, 26, 26, 26, 26, 26, 26, 26, 26, 26, 26, 26, 26, 26, 26, 26, 26, 26, 26, 26, 26, 26, 26, 26, 26, 26, 26, 26, 26, 26, 26, 26, 26, 26, 26, 26, 26, 26, 27, 27, 27, 27, 27, 27, 27, 27, 27, 27, 27, 27, 27, 27, 27, 27, 27, 27, 27, 27, 27, 27, 25, 27, 27, 27, 27, 27, 27, 27, 27, 27, 27, 27, 27, 27, 27, 27, 27, 27, 27, 27, 25, 27, 27, 27, 27, 27, 27, 27, 27, 27, 27, 27, 27, 27, 27, 27, 25, 25, 25, 28, 28, 28, 28, 28, 28, 28, 28, 28, 28, 28, 28, 28, 28, 26, 28, 28, 26, 28, 28, 26, 26, 28, 28, 28, 26, 28, 28, 28, 26, 26, 26, 28, 26, 28, 28, 28, 28, 28, 26, 28, 28, 26, 28, 26, 28, 26, 26, 28, 28, 28, 26, 26, 26, 26, 29, 29, 29, 29, 29, 29, 29, 29, 29, 29, 29, 29, 29, 29, 29, 29, 29, 29, 29, 29, 29, 29, 29, 29, 29, 29, 29, 29, 29, 29, 29, 29, 29, 29, 29, 29, 29, 29, 29, 29, 29, 29, 29, 29, 29, 29, 29, 29, 29, 29, 29, 2, 2, 2, 2, 2, 2, 2, 2, 2, 2, 2, 2, 2, 2, 2, 2, 2, 2, 2, 2, 2, 2, 2, 2, 2, 2, 2, 2, 2, 2, 2, 2, 2, 2, 2, 2, 2, 2, 2, 2, 2, 2, 2, 2, 2, 2, 2, 2, 2, 2, 2, 3, 3, 3, 3, 3, 3, 1, 3, 5, 3, 3, 3, 3, 5, 1, 3, 3, 3, 5, 3, 3, 3, 1, 5, 3, 3, 3, 3, 3, 5, 3, 3, 3, 5, 26, 5, 5, 26, 3, 3, 3, 3, 3, 3, 26, 5, 26, 3, 5, 3, 3, 5, 4, 4, 4, 4, 4, 4, 4, 4, 4, 4, 4, 4, 4, 4, 4, 4, 4, 4, 4, 4, 4, 4, 4, 4, 4, 4, 4, 4, 4, 4, 4, 4, 4, 4, 4, 4, 4, 4, 4, 4, 4, 4, 4, 4, 4, 4, 4, 5, 5, 5, 5, 5, 5, 5, 5, 5, 5, 5, 5, 5, 5, 5, 5, 5, 5, 5, 5, 5, 5, 5, 5, 5, 5, 5, 5, 5, 5, 5, 5, 5, 5, 5, 5, 5, 5, 5, 5, 5, 5, 5, 5, 5, 5, 12, 5, 5, 5, 5, 5, 5, 5, 5, 5, 5, 5, 5, 5, 5, 5, 5, 5, 5, 5, 5, 5, 5, 5, 5, 5, 5, 5, 5, 5, 5, 5, 5, 5, 5, 5, 5, 5, 5, 5, 5, 5, 5, 5, 5, 6, 12, 6, 6, 6, 6, 6, 12, 6, 12, 6, 6, 12, 6, 6, 12, 6, 6, 6, 6, 6, 6, 6, 6, 12, 12, 6, 6, 6, 6, 6, 6, 6, 6, 7, 7, 7, 7, 7, 7, 12, 7, 7, 13, 7, 7, 7, 7, 7, 7, 7, 7, 7, 7, 12, 7, 21, 7, 12, 7, 7, 12, 7, 7, 7, 7, 7, 7, 7, 7, 8, 11, 14, 13, 8, 8, 8, 8, 8, 8, 8, 8, 8, 8, 8, 8, 8, 8, 14, 8, 8, 8, 14, 8, 8, 8, 8, 8, 8, 8, 14, 8, 8, 8, 14, 8, 8, 14, 8, 8, 14, 14, 8, 8, 8, 8, 8, 8, 17, 14, 14, 8, 13, 14, 8, 11, 8, 14, 9, 9, 11, 9, 9, 12, 9, 9, 9, 9, 9, 12, 9, 12, 15, 15, 9, 12, 9, 9, 10, 9, 10, 9, 9, 9, 9, 9, 9, 9, 18, 6, 12, 9, 6, 9, 9, 12, 16, 15, 15, 9, 9, 15]\n"
          ]
        }
      ]
    },
    {
      "cell_type": "code",
      "source": [
        "# Gráfica de la evolución de entrenamiento y validación durante las épocas\n",
        "import matplotlib.pyplot as plt\n",
        "\n",
        "acc = history.history['accuracy']\n",
        "val_acc = history.history['val_accuracy']\n",
        "plt.figure(figsize=(8, 8))\n",
        "plt.subplot(2, 1, 1)\n",
        "plt.plot(acc, label='Training Accuracy')\n",
        "plt.plot(val_acc, label='Validation Accuracy')\n",
        "plt.legend(loc='lower right')\n",
        "plt.ylabel('Accuracy')\n",
        "plt.ylim([min(plt.ylim()),1])\n",
        "plt.title('Training and Validation Accuracy')"
      ],
      "metadata": {
        "colab": {
          "base_uri": "https://localhost:8080/",
          "height": 279
        },
        "id": "ImHXvkXWXUkW",
        "outputId": "508ce36d-6733-4e16-bb9c-8f8cfe68054f"
      },
      "execution_count": 9,
      "outputs": [
        {
          "output_type": "execute_result",
          "data": {
            "text/plain": [
              "Text(0.5, 1.0, 'Training and Validation Accuracy')"
            ]
          },
          "metadata": {},
          "execution_count": 9
        },
        {
          "output_type": "display_data",
          "data": {
            "text/plain": [
              "<Figure size 576x576 with 1 Axes>"
            ],
            "image/png": "[encoded data removed]"
          },
          "metadata": {
            "needs_background": "light"
          }
        }
      ]
    },
    {
      "cell_type": "code",
      "source": [
        ""
      ],
      "metadata": {
        "id": "fnOVuzy0XUth"
      },
      "execution_count": null,
      "outputs": []
    }
  ]
}