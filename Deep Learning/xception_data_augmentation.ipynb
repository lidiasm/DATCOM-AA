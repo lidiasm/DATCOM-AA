{
  "nbformat": 4,
  "nbformat_minor": 0,
  "metadata": {
    "colab": {
      "name": "xception_data_augmentation.ipynb",
      "provenance": []
    },
    "kernelspec": {
      "name": "python3",
      "display_name": "Python 3"
    },
    "language_info": {
      "name": "python"
    },
    "accelerator": "GPU"
  },
  "cells": [
    {
      "cell_type": "code",
      "execution_count": 2,
      "metadata": {
        "id": "8O7iq2lbW34y"
      },
      "outputs": [],
      "source": [
        "# Carga de librerías \n",
        "import pandas as pd \n",
        "import numpy as np\n",
        "import tensorflow as tf\n",
        "from tensorflow.keras.preprocessing.image import ImageDataGenerator\n",
        "from tensorflow.keras.applications import Xception\n",
        "from tensorflow.keras.layers import Input, Flatten, Dense, Dropout\n",
        "from tensorflow.keras.models import Model, load_model\n",
        "from tensorflow.keras.optimizers import Adam"
      ]
    },
    {
      "cell_type": "code",
      "source": [
        "# Montamos el directorio Drive para obtener las imágenes\n",
        "from google.colab import drive\n",
        "drive.mount('/content/gdrive')"
      ],
      "metadata": {
        "colab": {
          "base_uri": "https://localhost:8080/"
        },
        "id": "bX182q_6W9oT",
        "outputId": "525421af-20a5-415a-ee57-df81049ad1af"
      },
      "execution_count": 3,
      "outputs": [
        {
          "output_type": "stream",
          "name": "stdout",
          "text": [
            "Drive already mounted at /content/gdrive; to attempt to forcibly remount, call drive.mount(\"/content/gdrive\", force_remount=True).\n"
          ]
        }
      ]
    },
    {
      "cell_type": "code",
      "source": [
        "# Parámetros de las imágenes\n",
        "HEIGHT = 224\n",
        "WIDTH = 224\n",
        "CHANNELS = 3\n",
        "N_CLASSES = 29\n",
        "TRAIN_DIR = \"/content/gdrive/MyDrive/Backup/DATCOM/AA/Sentinel2LULC_354/Sentinel2LULC_354/\"\n",
        "TEST_DIR = \"/content/gdrive/MyDrive/Backup/DATCOM/AA/Test 2\"\n",
        "\n",
        "# Parámetros de entrenamiento\n",
        "BATCH_SIZE = 64\n",
        "EPOCHS = 35\n",
        "LEARNING_RATE = 1e-4 # default 0.001\n",
        "LOSS = 'categorical_crossentropy'\n",
        "METRICS = ['accuracy', 'AUC']"
      ],
      "metadata": {
        "id": "oeiUrFpAXAjH"
      },
      "execution_count": 4,
      "outputs": []
    },
    {
      "cell_type": "code",
      "source": [
        "# Leemos las imágenes de entrenamiento y las dividimos en 80% para entrenamiento\n",
        "# del modelo y 20% para validación \n",
        "train_datagenerator = ImageDataGenerator(rescale=1/255, \n",
        "                                         validation_split=0.2,\n",
        "                                         rotation_range=45,\n",
        "                                         width_shift_range=.15,\n",
        "                                         height_shift_range=.15,\n",
        "                                         horizontal_flip=True,\n",
        "                                         vertical_flip=True,\n",
        "                                         zoom_range=0.5)\n",
        "train_it = train_datagenerator.flow_from_directory(directory=TRAIN_DIR,\n",
        "                                                    target_size=(HEIGHT, WIDTH),\n",
        "                                                    class_mode='categorical',\n",
        "                                                    batch_size=BATCH_SIZE,\n",
        "                                                    subset='training')\n",
        "validation_it = train_datagenerator.flow_from_directory(directory=TRAIN_DIR,\n",
        "                                                        target_size=(HEIGHT, WIDTH),\n",
        "                                                        class_mode='categorical',\n",
        "                                                        batch_size=BATCH_SIZE,\n",
        "                                                        subset='validation')"
      ],
      "metadata": {
        "colab": {
          "base_uri": "https://localhost:8080/"
        },
        "id": "lTwAlM7oXCeK",
        "outputId": "1f9b2656-1737-426a-a7e0-45d6ee7ca3ec"
      },
      "execution_count": 5,
      "outputs": [
        {
          "output_type": "stream",
          "name": "stdout",
          "text": [
            "Found 8236 images belonging to 29 classes.\n",
            "Found 2030 images belonging to 29 classes.\n"
          ]
        }
      ]
    },
    {
      "cell_type": "code",
      "source": [
        "# Cargamos el modelo Xception con los pesos de haber sido enterenado con ImageNET\n",
        "base_model = Xception(weights='imagenet', include_top=False, input_shape=(HEIGHT, WIDTH, CHANNELS))\n",
        "print(\"Nº de capas: \", len(base_model.layers))"
      ],
      "metadata": {
        "colab": {
          "base_uri": "https://localhost:8080/"
        },
        "id": "lJK2XYfJXDKY",
        "outputId": "483e63e6-9f00-4878-b0b9-dae4a7813538"
      },
      "execution_count": 6,
      "outputs": [
        {
          "output_type": "stream",
          "name": "stdout",
          "text": [
            "Downloading data from https://storage.googleapis.com/tensorflow/keras-applications/xception/xception_weights_tf_dim_ordering_tf_kernels_notop.h5\n",
            "83689472/83683744 [==============================] - 0s 0us/step\n",
            "83697664/83683744 [==============================] - 0s 0us/step\n",
            "Nº de capas:  132\n"
          ]
        }
      ]
    },
    {
      "cell_type": "code",
      "source": [
        "# PRIMERA VERSIÓN: sin re-entrenar ninguna capa\n",
        "base_model.trainable = False"
      ],
      "metadata": {
        "id": "O6VWh-8eXM0X"
      },
      "execution_count": null,
      "outputs": []
    },
    {
      "cell_type": "code",
      "source": [
        "# SEGUNDA VERSIÓN: finetuning re-entrenando algunas capas\n",
        "base_model.trainable = True\n",
        "# Número de capas a re-entrenar\n",
        "fine_tune_at = 100\n",
        "# Congelamos los pesos de todas las capas anteriores a las que se van a re-entrenar\n",
        "for layer in base_model.layers[:fine_tune_at]:\n",
        "  layer.trainable =  False"
      ],
      "metadata": {
        "id": "gh3WAO1KXKaI"
      },
      "execution_count": null,
      "outputs": []
    },
    {
      "cell_type": "code",
      "source": [
        "# TERCERA VERSIÓN: re-entrenando todas las capas\n",
        "base_model.trainable = True"
      ],
      "metadata": {
        "id": "MD6zKdP0Ud5F"
      },
      "execution_count": 7,
      "outputs": []
    },
    {
      "cell_type": "code",
      "source": [
        "# Adaptamos el modelo a nuestro problema\n",
        "input_layer = Input(shape=(HEIGHT, WIDTH, CHANNELS), name='input_image')\n",
        "output_conv = base_model(input_layer)\n",
        "x = Flatten(name='flatten')(output_conv) \n",
        "x = Dense(N_CLASSES, activation='softmax', name='classes')(x)\n",
        "model = Model(inputs=input_layer, outputs=x)\n",
        "opt = Adam(learning_rate=LEARNING_RATE)\n",
        "model.compile(optimizer=opt, loss=LOSS, metrics=METRICS)\n",
        "history = model.fit(train_it,\n",
        "          validation_data=validation_it,\n",
        "          steps_per_epoch=train_it.n // BATCH_SIZE,\n",
        "          validation_steps=validation_it.n // BATCH_SIZE,\n",
        "          epochs=EPOCHS,\n",
        "          workers=100,\n",
        "          use_multiprocessing=True)\n",
        "# Guardamos el modelo en un fichero\n",
        "model_filename = \"xception_da_all_1e4_35e.h5\"\n",
        "model.save(model_filename)"
      ],
      "metadata": {
        "colab": {
          "base_uri": "https://localhost:8080/"
        },
        "id": "mQ45dhuaXPC4",
        "outputId": "5c949b21-cc80-4df5-e30f-88bcbb98a82e"
      },
      "execution_count": 8,
      "outputs": [
        {
          "output_type": "stream",
          "name": "stdout",
          "text": [
            "Epoch 1/35\n",
            "128/128 [==============================] - 436s 3s/step - loss: 1.2599 - accuracy: 0.6079 - auc: 0.9644 - val_loss: 2.0633 - val_accuracy: 0.4360 - val_auc: 0.9062\n",
            "Epoch 2/35\n",
            "128/128 [==============================] - 206s 1s/step - loss: 0.5490 - accuracy: 0.8063 - auc: 0.9917 - val_loss: 0.8578 - val_accuracy: 0.7051 - val_auc: 0.9807\n",
            "Epoch 3/35\n",
            "128/128 [==============================] - 208s 2s/step - loss: 0.4182 - accuracy: 0.8501 - auc: 0.9947 - val_loss: 0.7618 - val_accuracy: 0.7843 - val_auc: 0.9763\n",
            "Epoch 4/35\n",
            "128/128 [==============================] - 204s 1s/step - loss: 0.3576 - accuracy: 0.8757 - auc: 0.9960 - val_loss: 0.6802 - val_accuracy: 0.8125 - val_auc: 0.9782\n",
            "Epoch 5/35\n",
            "128/128 [==============================] - 208s 2s/step - loss: 0.3175 - accuracy: 0.8886 - auc: 0.9967 - val_loss: 0.6166 - val_accuracy: 0.8180 - val_auc: 0.9816\n",
            "Epoch 6/35\n",
            "128/128 [==============================] - 204s 1s/step - loss: 0.2832 - accuracy: 0.8944 - auc: 0.9972 - val_loss: 0.6060 - val_accuracy: 0.8110 - val_auc: 0.9856\n",
            "Epoch 7/35\n",
            "128/128 [==============================] - 210s 2s/step - loss: 0.2687 - accuracy: 0.9030 - auc: 0.9975 - val_loss: 0.6417 - val_accuracy: 0.8327 - val_auc: 0.9816\n",
            "Epoch 8/35\n",
            "128/128 [==============================] - 206s 1s/step - loss: 0.2471 - accuracy: 0.9110 - auc: 0.9971 - val_loss: 0.7490 - val_accuracy: 0.8196 - val_auc: 0.9702\n",
            "Epoch 9/35\n",
            "128/128 [==============================] - 203s 1s/step - loss: 0.2277 - accuracy: 0.9224 - auc: 0.9977 - val_loss: 0.6278 - val_accuracy: 0.8291 - val_auc: 0.9807\n",
            "Epoch 10/35\n",
            "128/128 [==============================] - 203s 1s/step - loss: 0.1963 - accuracy: 0.9299 - auc: 0.9979 - val_loss: 0.6809 - val_accuracy: 0.8286 - val_auc: 0.9763\n",
            "Epoch 11/35\n",
            "128/128 [==============================] - 204s 1s/step - loss: 0.1879 - accuracy: 0.9345 - auc: 0.9983 - val_loss: 0.6479 - val_accuracy: 0.8407 - val_auc: 0.9785\n",
            "Epoch 12/35\n",
            "128/128 [==============================] - 208s 2s/step - loss: 0.1743 - accuracy: 0.9347 - auc: 0.9984 - val_loss: 0.6792 - val_accuracy: 0.8458 - val_auc: 0.9749\n",
            "Epoch 13/35\n",
            "128/128 [==============================] - 204s 1s/step - loss: 0.1634 - accuracy: 0.9381 - auc: 0.9988 - val_loss: 0.7643 - val_accuracy: 0.8261 - val_auc: 0.9716\n",
            "Epoch 14/35\n",
            "128/128 [==============================] - 204s 1s/step - loss: 0.1608 - accuracy: 0.9442 - auc: 0.9987 - val_loss: 0.8247 - val_accuracy: 0.8241 - val_auc: 0.9685\n",
            "Epoch 15/35\n",
            "128/128 [==============================] - 208s 2s/step - loss: 0.1612 - accuracy: 0.9420 - auc: 0.9984 - val_loss: 0.7308 - val_accuracy: 0.8347 - val_auc: 0.9728\n",
            "Epoch 16/35\n",
            "128/128 [==============================] - 207s 2s/step - loss: 0.1423 - accuracy: 0.9519 - auc: 0.9990 - val_loss: 0.8076 - val_accuracy: 0.8236 - val_auc: 0.9679\n",
            "Epoch 17/35\n",
            "128/128 [==============================] - 206s 2s/step - loss: 0.1378 - accuracy: 0.9512 - auc: 0.9990 - val_loss: 0.7267 - val_accuracy: 0.8463 - val_auc: 0.9711\n",
            "Epoch 18/35\n",
            "128/128 [==============================] - 205s 1s/step - loss: 0.1150 - accuracy: 0.9580 - auc: 0.9991 - val_loss: 0.6969 - val_accuracy: 0.8412 - val_auc: 0.9735\n",
            "Epoch 19/35\n",
            "128/128 [==============================] - 203s 1s/step - loss: 0.1377 - accuracy: 0.9533 - auc: 0.9988 - val_loss: 0.7059 - val_accuracy: 0.8458 - val_auc: 0.9716\n",
            "Epoch 20/35\n",
            "128/128 [==============================] - 205s 1s/step - loss: 0.1165 - accuracy: 0.9607 - auc: 0.9987 - val_loss: 0.7011 - val_accuracy: 0.8498 - val_auc: 0.9745\n",
            "Epoch 21/35\n",
            "128/128 [==============================] - 206s 2s/step - loss: 0.1215 - accuracy: 0.9553 - auc: 0.9991 - val_loss: 0.7742 - val_accuracy: 0.8397 - val_auc: 0.9701\n",
            "Epoch 22/35\n",
            "128/128 [==============================] - 204s 1s/step - loss: 0.1025 - accuracy: 0.9622 - auc: 0.9992 - val_loss: 0.7586 - val_accuracy: 0.8412 - val_auc: 0.9692\n",
            "Epoch 23/35\n",
            "128/128 [==============================] - 207s 2s/step - loss: 0.1095 - accuracy: 0.9617 - auc: 0.9990 - val_loss: 0.6999 - val_accuracy: 0.8417 - val_auc: 0.9748\n",
            "Epoch 24/35\n",
            "128/128 [==============================] - 247s 2s/step - loss: 0.1046 - accuracy: 0.9617 - auc: 0.9992 - val_loss: 0.8530 - val_accuracy: 0.8291 - val_auc: 0.9648\n",
            "Epoch 25/35\n",
            "128/128 [==============================] - 209s 2s/step - loss: 0.0944 - accuracy: 0.9671 - auc: 0.9990 - val_loss: 0.8248 - val_accuracy: 0.8392 - val_auc: 0.9648\n",
            "Epoch 26/35\n",
            "128/128 [==============================] - 205s 1s/step - loss: 0.0971 - accuracy: 0.9650 - auc: 0.9991 - val_loss: 0.7329 - val_accuracy: 0.8362 - val_auc: 0.9709\n",
            "Epoch 27/35\n",
            "128/128 [==============================] - 205s 1s/step - loss: 0.0938 - accuracy: 0.9657 - auc: 0.9992 - val_loss: 0.8505 - val_accuracy: 0.8357 - val_auc: 0.9652\n",
            "Epoch 28/35\n",
            "128/128 [==============================] - 203s 1s/step - loss: 0.0889 - accuracy: 0.9673 - auc: 0.9994 - val_loss: 0.9846 - val_accuracy: 0.8286 - val_auc: 0.9599\n",
            "Epoch 29/35\n",
            "128/128 [==============================] - 210s 2s/step - loss: 0.0880 - accuracy: 0.9677 - auc: 0.9995 - val_loss: 0.8596 - val_accuracy: 0.8306 - val_auc: 0.9673\n",
            "Epoch 30/35\n",
            "128/128 [==============================] - 211s 2s/step - loss: 0.0878 - accuracy: 0.9698 - auc: 0.9990 - val_loss: 0.7897 - val_accuracy: 0.8276 - val_auc: 0.9706\n",
            "Epoch 31/35\n",
            "128/128 [==============================] - 212s 2s/step - loss: 0.0798 - accuracy: 0.9711 - auc: 0.9995 - val_loss: 0.9066 - val_accuracy: 0.8438 - val_auc: 0.9631\n",
            "Epoch 32/35\n",
            "128/128 [==============================] - 214s 2s/step - loss: 0.0848 - accuracy: 0.9695 - auc: 0.9989 - val_loss: 1.0183 - val_accuracy: 0.8306 - val_auc: 0.9598\n",
            "Epoch 33/35\n",
            "128/128 [==============================] - 210s 2s/step - loss: 0.0949 - accuracy: 0.9679 - auc: 0.9990 - val_loss: 0.9940 - val_accuracy: 0.8216 - val_auc: 0.9602\n",
            "Epoch 34/35\n",
            "128/128 [==============================] - 213s 2s/step - loss: 0.0704 - accuracy: 0.9745 - auc: 0.9993 - val_loss: 0.9957 - val_accuracy: 0.8372 - val_auc: 0.9613\n",
            "Epoch 35/35\n",
            "128/128 [==============================] - 215s 2s/step - loss: 0.0756 - accuracy: 0.9716 - auc: 0.9992 - val_loss: 0.9289 - val_accuracy: 0.8382 - val_auc: 0.9612\n"
          ]
        }
      ]
    },
    {
      "cell_type": "code",
      "source": [
        "# Cargamos las imágenes de test\n",
        "test_datagenerator = ImageDataGenerator(rescale=1./255)\n",
        "test_it = test_datagenerator.flow_from_directory(directory=TEST_DIR,\n",
        "                                                  target_size=(HEIGHT, WIDTH),\n",
        "                                                  batch_size= 1,\n",
        "                                                  class_mode=None,\n",
        "                                                  shuffle=False)\n",
        "# Reseteamos el iterador sobre las imágenes de test\n",
        "test_it.reset()\n",
        "\n",
        "# Predecimos con el modelo entrenado sobre las imágenes de test\n",
        "test_probs = model.predict(test_it, steps=test_it.samples)\n",
        "test_preds = np.argmax(test_probs, axis=1)\n",
        "print(\"\\nPredicciones: \", test_preds)\n",
        "\n",
        "# Construimos un traductor entre las etiquetas automáticamente generadas por Keras\n",
        "# y las reales a partir de los nombres de las carpetas de entrenamiento\n",
        "translated_train_labels = {train_it.class_indices[key]:int(key[:key.index(\"_\")]) \n",
        "                        for key in train_it.class_indices}\n",
        "print(\"\\nEtiquetas train: \", translated_train_labels)\n",
        "\n",
        "# Traducimos las etiquetas de test resultantes a las reales\n",
        "translated_test_preds = [translated_train_labels[label] for label in test_preds]\n",
        "print(\"\\nPredicciones reales: \", translated_test_preds)\n",
        "\n",
        "# Creamos el fichero de subida\n",
        "id_jpg_column = [test_img[(test_img.find(\"/\") + 1): ] for test_img in test_it.filenames]\n",
        "preds_dataset = pd.DataFrame({'id.jpg': id_jpg_column, 'label': translated_test_preds})\n",
        "preds_filename = \"xception_da_all_1e4_35e.csv\"\n",
        "preds_dataset.to_csv(preds_filename, index=False)"
      ],
      "metadata": {
        "colab": {
          "base_uri": "https://localhost:8080/"
        },
        "id": "F6F4BwbTXRFp",
        "outputId": "1c3bd429-74ef-4420-c9b0-6eeb8d60b796"
      },
      "execution_count": 9,
      "outputs": [
        {
          "output_type": "stream",
          "name": "stdout",
          "text": [
            "Found 1618 images belonging to 1 classes.\n",
            "\n",
            "Predicciones:  [ 1  0  0 ... 28 28  5]\n",
            "\n",
            "Etiquetas train:  {0: 10, 1: 11, 2: 12, 3: 13, 4: 14, 5: 15, 6: 16, 7: 17, 8: 18, 9: 19, 10: 1, 11: 20, 12: 21, 13: 22, 14: 23, 15: 24, 16: 25, 17: 26, 18: 27, 19: 28, 20: 29, 21: 2, 22: 3, 23: 4, 24: 5, 25: 6, 26: 7, 27: 8, 28: 9}\n",
            "\n",
            "Predicciones reales:  [11, 10, 10, 11, 10, 11, 10, 10, 10, 11, 10, 11, 10, 10, 10, 10, 10, 10, 10, 10, 10, 10, 10, 10, 10, 10, 10, 11, 10, 10, 10, 10, 10, 11, 10, 10, 10, 11, 10, 10, 10, 11, 11, 11, 11, 11, 11, 11, 11, 11, 11, 11, 11, 11, 11, 11, 11, 11, 11, 11, 11, 11, 11, 11, 11, 11, 11, 11, 11, 11, 11, 11, 11, 11, 11, 11, 11, 11, 11, 11, 11, 11, 11, 11, 11, 11, 11, 11, 11, 11, 11, 11, 11, 11, 11, 12, 12, 12, 12, 12, 12, 12, 12, 12, 12, 12, 12, 12, 12, 12, 12, 12, 12, 12, 12, 12, 12, 12, 12, 12, 12, 12, 12, 12, 12, 12, 12, 12, 12, 12, 12, 12, 12, 12, 12, 12, 12, 12, 12, 12, 12, 12, 12, 12, 12, 12, 12, 12, 12, 12, 12, 12, 12, 12, 12, 12, 12, 12, 13, 13, 13, 13, 13, 13, 13, 13, 13, 13, 13, 13, 13, 13, 13, 13, 13, 13, 13, 13, 13, 13, 13, 13, 13, 13, 13, 13, 13, 13, 13, 13, 13, 13, 13, 13, 13, 13, 13, 13, 13, 13, 13, 13, 13, 13, 13, 13, 13, 13, 14, 13, 13, 13, 13, 13, 13, 14, 14, 14, 14, 14, 14, 14, 14, 14, 14, 14, 14, 14, 14, 14, 14, 14, 14, 14, 14, 14, 14, 14, 8, 14, 14, 14, 14, 14, 14, 14, 14, 14, 14, 14, 14, 14, 14, 14, 14, 14, 14, 14, 14, 14, 14, 14, 14, 14, 14, 14, 14, 14, 14, 14, 14, 14, 14, 14, 14, 14, 14, 14, 14, 14, 15, 15, 15, 15, 20, 15, 15, 15, 15, 15, 15, 15, 15, 15, 15, 15, 15, 15, 15, 15, 15, 15, 15, 15, 15, 15, 15, 15, 5, 15, 15, 15, 15, 15, 15, 15, 15, 15, 15, 15, 15, 15, 15, 15, 15, 15, 15, 15, 15, 15, 15, 15, 16, 16, 16, 16, 16, 16, 16, 16, 16, 16, 16, 5, 16, 16, 16, 16, 16, 16, 16, 16, 16, 16, 16, 16, 16, 16, 15, 16, 16, 16, 16, 16, 16, 16, 16, 16, 16, 16, 16, 16, 16, 16, 16, 16, 16, 16, 16, 16, 16, 16, 16, 16, 16, 16, 16, 16, 16, 16, 16, 16, 16, 16, 16, 16, 16, 16, 16, 16, 16, 16, 16, 16, 16, 17, 17, 17, 17, 17, 17, 17, 17, 17, 17, 17, 17, 17, 17, 17, 17, 17, 17, 17, 17, 17, 17, 17, 17, 17, 17, 17, 17, 17, 17, 17, 17, 17, 17, 17, 17, 17, 17, 17, 17, 17, 17, 17, 17, 17, 17, 17, 17, 17, 17, 17, 17, 17, 17, 17, 17, 17, 17, 14, 17, 17, 17, 17, 17, 17, 17, 17, 17, 17, 17, 17, 17, 17, 18, 18, 18, 18, 18, 18, 18, 18, 18, 18, 18, 18, 18, 18, 18, 18, 18, 18, 18, 18, 18, 20, 18, 18, 18, 18, 18, 18, 18, 18, 18, 18, 18, 18, 18, 18, 18, 18, 18, 18, 18, 18, 18, 18, 18, 18, 18, 18, 18, 18, 18, 18, 18, 18, 18, 18, 18, 18, 18, 18, 18, 18, 18, 18, 18, 18, 18, 18, 18, 18, 18, 18, 18, 18, 18, 18, 18, 18, 18, 18, 19, 19, 19, 19, 19, 19, 19, 19, 19, 19, 19, 20, 19, 19, 19, 19, 19, 19, 19, 19, 19, 19, 19, 19, 19, 19, 19, 19, 19, 19, 19, 19, 19, 19, 19, 19, 19, 19, 19, 19, 19, 19, 19, 19, 19, 19, 19, 19, 19, 19, 1, 1, 1, 1, 1, 1, 1, 1, 1, 1, 1, 1, 1, 1, 1, 1, 1, 1, 1, 1, 5, 1, 1, 1, 1, 1, 1, 1, 1, 5, 1, 1, 1, 1, 1, 2, 1, 1, 1, 1, 1, 2, 20, 20, 20, 20, 20, 20, 20, 20, 20, 9, 20, 20, 19, 20, 20, 20, 20, 20, 20, 20, 18, 20, 20, 20, 20, 20, 20, 20, 20, 19, 20, 20, 20, 20, 20, 20, 20, 20, 19, 20, 20, 20, 28, 20, 20, 20, 20, 20, 20, 21, 22, 21, 21, 21, 21, 21, 21, 21, 21, 21, 21, 21, 21, 22, 21, 22, 21, 21, 21, 21, 22, 21, 22, 21, 22, 22, 21, 21, 22, 22, 22, 21, 21, 22, 21, 22, 21, 21, 21, 22, 22, 21, 21, 21, 22, 22, 22, 21, 21, 21, 21, 22, 21, 22, 22, 22, 22, 22, 22, 22, 22, 22, 22, 22, 22, 22, 22, 22, 22, 22, 22, 22, 22, 21, 22, 22, 22, 22, 22, 22, 22, 22, 22, 22, 22, 22, 22, 22, 22, 22, 21, 22, 21, 22, 22, 21, 21, 22, 21, 22, 22, 22, 23, 23, 23, 23, 23, 23, 2, 23, 23, 23, 23, 23, 23, 2, 23, 23, 23, 23, 2, 23, 23, 23, 23, 23, 23, 23, 23, 23, 23, 23, 23, 23, 23, 23, 23, 23, 23, 23, 23, 23, 23, 23, 23, 23, 23, 23, 23, 23, 2, 23, 23, 23, 23, 23, 23, 23, 23, 23, 23, 23, 23, 23, 23, 23, 23, 23, 2, 23, 23, 23, 23, 23, 2, 23, 24, 24, 24, 24, 24, 24, 24, 24, 24, 24, 24, 25, 24, 24, 24, 24, 24, 24, 24, 24, 24, 24, 24, 24, 24, 24, 24, 24, 24, 24, 24, 24, 24, 25, 24, 24, 24, 24, 24, 24, 24, 24, 24, 24, 24, 24, 24, 24, 24, 24, 25, 25, 25, 25, 25, 25, 25, 25, 25, 25, 25, 25, 25, 25, 25, 25, 25, 25, 25, 25, 25, 25, 25, 25, 25, 25, 25, 25, 25, 25, 25, 25, 25, 25, 25, 25, 25, 25, 25, 25, 25, 25, 25, 25, 25, 25, 25, 25, 25, 25, 25, 25, 25, 25, 25, 25, 25, 25, 25, 25, 25, 25, 3, 26, 1, 26, 26, 26, 26, 26, 26, 26, 26, 26, 26, 26, 26, 26, 26, 26, 26, 26, 26, 26, 26, 26, 26, 26, 26, 26, 26, 26, 26, 26, 26, 26, 26, 26, 26, 26, 26, 26, 26, 26, 26, 26, 26, 26, 26, 26, 26, 26, 27, 27, 27, 27, 27, 27, 27, 27, 27, 27, 27, 27, 27, 27, 27, 27, 27, 27, 27, 27, 27, 27, 25, 27, 27, 27, 27, 27, 27, 27, 27, 27, 27, 27, 27, 27, 27, 27, 27, 27, 27, 27, 25, 27, 27, 27, 27, 27, 27, 27, 27, 27, 27, 27, 27, 27, 27, 27, 27, 27, 27, 28, 28, 28, 28, 28, 28, 28, 28, 28, 28, 28, 28, 28, 28, 28, 28, 28, 28, 28, 28, 28, 28, 28, 28, 28, 28, 28, 28, 28, 28, 28, 28, 28, 28, 28, 28, 28, 28, 28, 28, 28, 28, 28, 28, 28, 28, 28, 28, 28, 28, 28, 28, 28, 28, 28, 29, 29, 29, 29, 29, 29, 29, 29, 29, 29, 29, 29, 29, 29, 29, 29, 29, 29, 29, 29, 29, 29, 29, 29, 29, 29, 29, 29, 29, 29, 29, 29, 29, 29, 29, 29, 29, 29, 29, 29, 29, 29, 29, 29, 29, 29, 29, 29, 29, 29, 29, 2, 2, 2, 2, 2, 2, 2, 2, 2, 2, 2, 2, 2, 2, 2, 2, 2, 2, 2, 2, 2, 2, 2, 2, 2, 2, 2, 2, 2, 2, 2, 2, 2, 2, 2, 2, 2, 2, 2, 2, 2, 2, 2, 2, 2, 2, 2, 2, 2, 2, 2, 3, 3, 3, 3, 3, 3, 3, 5, 3, 3, 3, 3, 3, 3, 3, 3, 3, 3, 5, 3, 3, 3, 3, 5, 3, 3, 3, 3, 3, 5, 3, 3, 3, 5, 5, 26, 5, 3, 3, 5, 5, 3, 3, 5, 5, 3, 26, 3, 5, 5, 3, 5, 4, 4, 4, 4, 4, 4, 4, 4, 4, 4, 4, 4, 4, 4, 4, 4, 4, 4, 4, 4, 4, 4, 4, 4, 4, 4, 4, 4, 4, 4, 4, 4, 4, 4, 4, 4, 4, 4, 4, 4, 4, 4, 4, 4, 4, 4, 4, 5, 5, 5, 5, 5, 5, 5, 5, 5, 5, 5, 5, 5, 5, 5, 5, 5, 5, 5, 5, 5, 5, 5, 5, 5, 5, 5, 5, 5, 5, 5, 5, 5, 5, 5, 5, 5, 5, 5, 5, 5, 5, 5, 5, 5, 5, 5, 5, 5, 5, 5, 5, 5, 5, 5, 5, 5, 5, 5, 5, 5, 5, 5, 5, 5, 5, 5, 5, 5, 5, 5, 5, 5, 5, 5, 5, 5, 5, 5, 5, 5, 5, 5, 5, 5, 5, 5, 5, 5, 5, 5, 6, 6, 6, 6, 6, 6, 6, 6, 6, 6, 6, 6, 6, 6, 6, 6, 6, 6, 6, 6, 6, 6, 6, 6, 6, 6, 6, 6, 6, 6, 6, 6, 6, 6, 7, 14, 7, 7, 7, 7, 7, 7, 7, 7, 7, 7, 7, 7, 7, 7, 7, 7, 7, 7, 7, 7, 6, 7, 7, 7, 7, 7, 7, 7, 7, 7, 7, 7, 7, 7, 8, 8, 8, 8, 8, 8, 8, 8, 8, 8, 8, 8, 8, 8, 8, 8, 8, 8, 8, 8, 8, 8, 14, 8, 8, 8, 8, 8, 8, 8, 8, 8, 8, 8, 8, 8, 8, 8, 8, 8, 14, 14, 8, 8, 8, 8, 8, 8, 14, 14, 11, 8, 8, 8, 8, 8, 8, 14, 9, 9, 9, 9, 9, 9, 9, 9, 9, 9, 9, 9, 9, 9, 9, 9, 9, 15, 9, 9, 9, 9, 10, 9, 9, 9, 9, 9, 24, 9, 9, 9, 9, 9, 9, 9, 9, 9, 9, 9, 15, 9, 9, 15]\n"
          ]
        }
      ]
    },
    {
      "cell_type": "code",
      "source": [
        "# Gráfica de la evolución de entrenamiento y validación durante las épocas\n",
        "import matplotlib.pyplot as plt\n",
        "\n",
        "acc = history.history['accuracy']\n",
        "val_acc = history.history['val_accuracy']\n",
        "plt.figure(figsize=(8, 8))\n",
        "plt.subplot(2, 1, 1)\n",
        "plt.plot(acc, label='Training Accuracy')\n",
        "plt.plot(val_acc, label='Validation Accuracy')\n",
        "plt.legend(loc='lower right')\n",
        "plt.ylabel('Accuracy')\n",
        "plt.ylim([min(plt.ylim()),1])\n",
        "plt.title('Training and Validation Accuracy')"
      ],
      "metadata": {
        "colab": {
          "base_uri": "https://localhost:8080/",
          "height": 279
        },
        "id": "ImHXvkXWXUkW",
        "outputId": "92472979-d91a-4c25-be9e-dc46d054a4a0"
      },
      "execution_count": 10,
      "outputs": [
        {
          "output_type": "execute_result",
          "data": {
            "text/plain": [
              "Text(0.5, 1.0, 'Training and Validation Accuracy')"
            ]
          },
          "metadata": {},
          "execution_count": 10
        },
        {
          "output_type": "display_data",
          "data": {
            "text/plain": [
              "<Figure size 576x576 with 1 Axes>"
            ],
            "image/png": "[encoded data removed]"
          },
          "metadata": {
            "needs_background": "light"
          }
        }
      ]
    },
    {
      "cell_type": "code",
      "source": [
        ""
      ],
      "metadata": {
        "id": "fnOVuzy0XUth"
      },
      "execution_count": null,
      "outputs": []
    }
  ]
}