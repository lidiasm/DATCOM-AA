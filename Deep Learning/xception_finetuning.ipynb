{
  "nbformat": 4,
  "nbformat_minor": 0,
  "metadata": {
    "colab": {
      "name": "xception_finetuning.ipynb",
      "provenance": [],
      "machine_shape": "hm"
    },
    "kernelspec": {
      "name": "python3",
      "display_name": "Python 3"
    },
    "language_info": {
      "name": "python"
    },
    "accelerator": "GPU"
  },
  "cells": [
    {
      "cell_type": "markdown",
      "source": [
        "# Modelo Xception \n",
        "\n"
      ],
      "metadata": {
        "id": "yHzHtPWKNyx3"
      }
    },
    {
      "cell_type": "code",
      "execution_count": 1,
      "metadata": {
        "id": "6oULkTIVBvcZ"
      },
      "outputs": [],
      "source": [
        "# Carga de librerías \n",
        "import pandas as pd \n",
        "import numpy as np\n",
        "import tensorflow as tf\n",
        "from tensorflow.keras.preprocessing.image import ImageDataGenerator\n",
        "from tensorflow.keras.applications import Xception\n",
        "from tensorflow.keras.layers import Input, Flatten, Dense, Dropout\n",
        "from tensorflow.keras.models import Model, load_model\n",
        "from tensorflow.keras.optimizers import Adam"
      ]
    },
    {
      "cell_type": "code",
      "source": [
        "# Montamos el directorio Drive para obtener las imágenes\n",
        "from google.colab import drive\n",
        "drive.mount('/content/gdrive')"
      ],
      "metadata": {
        "colab": {
          "base_uri": "https://localhost:8080/"
        },
        "id": "ARwJENv8OY4K",
        "outputId": "cec91c76-6c2f-4369-ca4d-8b9486c79625"
      },
      "execution_count": 2,
      "outputs": [
        {
          "output_type": "stream",
          "name": "stdout",
          "text": [
            "Mounted at /content/gdrive\n"
          ]
        }
      ]
    },
    {
      "cell_type": "code",
      "source": [
        "# Parámetros de las imágenes\n",
        "HEIGHT = 224\n",
        "WIDTH = 224\n",
        "CHANNELS = 3\n",
        "N_CLASSES = 29\n",
        "TRAIN_DIR = \"/content/gdrive/MyDrive/Backup/DATCOM/AA/Sentinel2LULC_354/Sentinel2LULC_354/\"\n",
        "AUG_TRAIN_DIR = \"/content/gdrive/MyDrive/Backup/DATCOM/AA/Sentinel2LULC_354_augmented/Sentinel2LULC_354_augmented/\"\n",
        "TEST_DIR = \"/content/gdrive/MyDrive/Backup/DATCOM/AA/Test 2\"\n",
        "\n",
        "# Parámetros de entrenamiento\n",
        "BATCH_SIZE = 64\n",
        "EPOCHS = 25\n",
        "LEARNING_RATE = 1e-4 # default 0.001\n",
        "LOSS = 'categorical_crossentropy'\n",
        "METRICS = ['accuracy', 'AUC']"
      ],
      "metadata": {
        "id": "EmFXDiclB_ru"
      },
      "execution_count": 3,
      "outputs": []
    },
    {
      "cell_type": "code",
      "source": [
        "# Leemos las imágenes de entrenamiento y las dividimos en 80% para entrenamiento\n",
        "# del modelo y 20% para validación \n",
        "train_datagenerator = ImageDataGenerator(rescale=1/255, validation_split=0.2)\n",
        "train_it = train_datagenerator.flow_from_directory(directory=AUG_TRAIN_DIR, \n",
        "                                                    target_size=(HEIGHT, WIDTH),\n",
        "                                                    class_mode='categorical',\n",
        "                                                    batch_size=BATCH_SIZE,\n",
        "                                                    subset='training')\n",
        "validation_it = train_datagenerator.flow_from_directory(directory=TRAIN_DIR,\n",
        "                                                        target_size=(HEIGHT, WIDTH),\n",
        "                                                        class_mode='categorical',\n",
        "                                                        batch_size=BATCH_SIZE,\n",
        "                                                        subset='validation')"
      ],
      "metadata": {
        "colab": {
          "base_uri": "https://localhost:8080/"
        },
        "id": "RzpI9slpCDpW",
        "outputId": "6212d565-f3a6-4749-c826-5d8030490bc7"
      },
      "execution_count": 11,
      "outputs": [
        {
          "output_type": "stream",
          "name": "stdout",
          "text": [
            "Found 32868 images belonging to 29 classes.\n",
            "Found 2030 images belonging to 29 classes.\n"
          ]
        }
      ]
    },
    {
      "cell_type": "code",
      "source": [
        "# Cargamos el modelo Xception con los pesos de haber sido enterenado con ImageNET\n",
        "base_model = Xception(weights='imagenet', include_top=False, input_shape=(HEIGHT, WIDTH, CHANNELS))\n",
        "print(\"Nº de capas: \", len(base_model.layers))"
      ],
      "metadata": {
        "colab": {
          "base_uri": "https://localhost:8080/"
        },
        "id": "8fctT1jCy0YF",
        "outputId": "ab7cd348-1226-4f27-c4e5-6c08e483d778"
      },
      "execution_count": 12,
      "outputs": [
        {
          "output_type": "stream",
          "name": "stdout",
          "text": [
            "Nº de capas:  132\n"
          ]
        }
      ]
    },
    {
      "cell_type": "code",
      "source": [
        "# PRIMERA VERSIÓN: sin re-entrenar ninguna capa\n",
        "base_model.trainable = False"
      ],
      "metadata": {
        "id": "rv_xo8HzOxJE"
      },
      "execution_count": null,
      "outputs": []
    },
    {
      "cell_type": "code",
      "source": [
        "# SEGUNDA VERSIÓN: finetuning re-entrenando algunas capas\n",
        "base_model.trainable = True\n",
        "# Número de capas a re-entrenar\n",
        "fine_tune_at = 100 #10 #50\n",
        "# Congelamos los pesos de todas las capas anteriores a las que se van a re-entrenar\n",
        "for layer in base_model.layers[:fine_tune_at]:\n",
        "  layer.trainable =  False"
      ],
      "metadata": {
        "id": "hQnmCI_WO_gN"
      },
      "execution_count": 20,
      "outputs": []
    },
    {
      "cell_type": "code",
      "source": [
        "# TERCERA VERSIÓN: re-entrenando todas las capas\n",
        "base_model.trainable = True"
      ],
      "metadata": {
        "id": "ngFelOzMUjYa"
      },
      "execution_count": 13,
      "outputs": []
    },
    {
      "cell_type": "code",
      "source": [
        "# Adaptamos el modelo a nuestro problema\n",
        "input_layer = Input(shape=(HEIGHT, WIDTH, CHANNELS), name='input_image')\n",
        "output_conv = base_model(input_layer)\n",
        "x = Flatten(name='flatten')(output_conv) \n",
        "#x = Dense(128, activation='relu', name='dense_128')(x)\n",
        "#x = Dropout(.1, input_shape=(128,), name='dropout_128')(x)\n",
        "#x = Dense(64, activation='relu', name='dense_64')(x)\n",
        "#x = Dropout(.1, input_shape=(64,), name='dropout_64')(x)\n",
        "x = Dense(N_CLASSES, activation='softmax', name='classes')(x)\n",
        "\n",
        "model = Model(inputs=input_layer, outputs=x)\n",
        "opt = Adam(learning_rate=LEARNING_RATE)\n",
        "model.compile(optimizer=opt, loss=LOSS, metrics=METRICS)\n",
        "history = model.fit(train_it,\n",
        "          validation_data=validation_it,\n",
        "          steps_per_epoch=train_it.n // BATCH_SIZE,\n",
        "          validation_steps=validation_it.n // BATCH_SIZE,\n",
        "          epochs=EPOCHS,\n",
        "          workers=100,\n",
        "          use_multiprocessing=True)\n",
        "# Guardamos el modelo en un fichero\n",
        "model_filename = \"xception_dataaugv2_all_1e4.h5\"\n",
        "model.save(model_filename)"
      ],
      "metadata": {
        "colab": {
          "base_uri": "https://localhost:8080/"
        },
        "id": "BdiwcV32VS5v",
        "outputId": "c0ed5a41-b79b-444c-ac06-e4fbbbcd9f85"
      },
      "execution_count": null,
      "outputs": [
        {
          "output_type": "stream",
          "name": "stdout",
          "text": [
            "Epoch 1/25\n",
            "513/513 [==============================] - 470s 897ms/step - loss: 0.6612 - accuracy: 0.7810 - auc: 0.9890 - val_loss: 0.7785 - val_accuracy: 0.7823 - val_auc: 0.9768\n",
            "Epoch 2/25\n",
            "513/513 [==============================] - 401s 771ms/step - loss: 0.1904 - accuracy: 0.9317 - auc: 0.9983 - val_loss: 0.7311 - val_accuracy: 0.7923 - val_auc: 0.9760\n",
            "Epoch 3/25\n",
            "513/513 [==============================] - 400s 770ms/step - loss: 0.1035 - accuracy: 0.9628 - auc: 0.9993 - val_loss: 0.9271 - val_accuracy: 0.7838 - val_auc: 0.9627\n",
            "Epoch 4/25\n",
            "513/513 [==============================] - 401s 770ms/step - loss: 0.0717 - accuracy: 0.9745 - auc: 0.9994 - val_loss: 1.1047 - val_accuracy: 0.7823 - val_auc: 0.9549\n",
            "Epoch 5/25\n",
            "513/513 [==============================] - 400s 769ms/step - loss: 0.0644 - accuracy: 0.9776 - auc: 0.9995 - val_loss: 1.1323 - val_accuracy: 0.7888 - val_auc: 0.9545\n",
            "Epoch 6/25\n",
            "513/513 [==============================] - 401s 771ms/step - loss: 0.0510 - accuracy: 0.9819 - auc: 0.9996 - val_loss: 0.9895 - val_accuracy: 0.7903 - val_auc: 0.9634\n",
            "Epoch 7/25\n",
            "513/513 [==============================] - 402s 772ms/step - loss: 0.0442 - accuracy: 0.9858 - auc: 0.9996 - val_loss: 1.1076 - val_accuracy: 0.7928 - val_auc: 0.9552\n",
            "Epoch 8/25\n",
            "513/513 [==============================] - 400s 769ms/step - loss: 0.0411 - accuracy: 0.9865 - auc: 0.9995 - val_loss: 1.2718 - val_accuracy: 0.7949 - val_auc: 0.9515\n",
            "Epoch 9/25\n",
            "513/513 [==============================] - 402s 770ms/step - loss: 0.0418 - accuracy: 0.9863 - auc: 0.9996 - val_loss: 1.0777 - val_accuracy: 0.8110 - val_auc: 0.9535\n",
            "Epoch 10/25\n",
            "513/513 [==============================] - 401s 770ms/step - loss: 0.0326 - accuracy: 0.9894 - auc: 0.9996 - val_loss: 1.2364 - val_accuracy: 0.7928 - val_auc: 0.9493\n",
            "Epoch 11/25\n",
            "513/513 [==============================] - 403s 769ms/step - loss: 0.0301 - accuracy: 0.9903 - auc: 0.9996 - val_loss: 1.1574 - val_accuracy: 0.8039 - val_auc: 0.9523\n",
            "Epoch 12/25\n",
            "513/513 [==============================] - 400s 769ms/step - loss: 0.0305 - accuracy: 0.9904 - auc: 0.9996 - val_loss: 1.2674 - val_accuracy: 0.8075 - val_auc: 0.9494\n",
            "Epoch 13/25\n",
            "513/513 [==============================] - 401s 768ms/step - loss: 0.0280 - accuracy: 0.9908 - auc: 0.9997 - val_loss: 1.2307 - val_accuracy: 0.8024 - val_auc: 0.9494\n",
            "Epoch 14/25\n",
            "513/513 [==============================] - 401s 770ms/step - loss: 0.0275 - accuracy: 0.9918 - auc: 0.9996 - val_loss: 1.2215 - val_accuracy: 0.7949 - val_auc: 0.9525\n",
            "Epoch 15/25\n",
            "513/513 [==============================] - 401s 769ms/step - loss: 0.0271 - accuracy: 0.9921 - auc: 0.9996 - val_loss: 1.2416 - val_accuracy: 0.7979 - val_auc: 0.9511\n",
            "Epoch 16/25\n",
            "513/513 [==============================] - 401s 770ms/step - loss: 0.0252 - accuracy: 0.9925 - auc: 0.9996 - val_loss: 1.4958 - val_accuracy: 0.7883 - val_auc: 0.9433\n",
            "Epoch 17/25\n",
            "513/513 [==============================] - 401s 770ms/step - loss: 0.0205 - accuracy: 0.9939 - auc: 0.9997 - val_loss: 1.2609 - val_accuracy: 0.7954 - val_auc: 0.9469\n",
            "Epoch 18/25\n",
            "513/513 [==============================] - 400s 769ms/step - loss: 0.0201 - accuracy: 0.9940 - auc: 0.9996 - val_loss: 1.5087 - val_accuracy: 0.7858 - val_auc: 0.9361\n",
            "Epoch 19/25\n",
            "513/513 [==============================] - 400s 769ms/step - loss: 0.0225 - accuracy: 0.9930 - auc: 0.9998 - val_loss: 1.3828 - val_accuracy: 0.7812 - val_auc: 0.9445\n",
            "Epoch 20/25\n",
            "513/513 [==============================] - 402s 772ms/step - loss: 0.0204 - accuracy: 0.9940 - auc: 0.9997 - val_loss: 1.3946 - val_accuracy: 0.7908 - val_auc: 0.9425\n",
            "Epoch 21/25\n",
            "513/513 [==============================] - 403s 771ms/step - loss: 0.0236 - accuracy: 0.9927 - auc: 0.9997 - val_loss: 1.3305 - val_accuracy: 0.7873 - val_auc: 0.9461\n",
            "Epoch 22/25\n",
            "513/513 [==============================] - 401s 769ms/step - loss: 0.0212 - accuracy: 0.9930 - auc: 0.9997 - val_loss: 1.1689 - val_accuracy: 0.8044 - val_auc: 0.9537\n",
            "Epoch 23/25\n",
            "513/513 [==============================] - 401s 770ms/step - loss: 0.0172 - accuracy: 0.9951 - auc: 0.9996 - val_loss: 1.2424 - val_accuracy: 0.8044 - val_auc: 0.9486\n",
            "Epoch 24/25\n",
            "351/513 [===================>..........] - ETA: 2:00 - loss: 0.0184 - accuracy: 0.9946 - auc: 0.9997"
          ]
        }
      ]
    },
    {
      "cell_type": "code",
      "source": [
        "# Cargamos las imágenes de test\n",
        "test_datagenerator = ImageDataGenerator(rescale=1./255)\n",
        "test_it = test_datagenerator.flow_from_directory(directory=TEST_DIR,\n",
        "                                                  target_size=(HEIGHT, WIDTH),\n",
        "                                                  batch_size= 1,\n",
        "                                                  class_mode=None,\n",
        "                                                  shuffle=False)\n",
        "# Reseteamos el iterador sobre las imágenes de test\n",
        "test_it.reset()\n",
        "\n",
        "# Predecimos con el modelo entrenado sobre las imágenes de test\n",
        "test_probs = model.predict(test_it, steps=test_it.samples)\n",
        "test_preds = np.argmax(test_probs, axis=1)\n",
        "print(\"\\nPredicciones: \", test_preds)\n",
        "\n",
        "# Construimos un traductor entre las etiquetas automáticamente generadas por Keras\n",
        "# y las reales a partir de los nombres de las carpetas de entrenamiento\n",
        "translated_train_labels = {train_it.class_indices[key]:int(key[:key.index(\"_\")]) \n",
        "                        for key in train_it.class_indices}\n",
        "print(\"\\nEtiquetas train: \", translated_train_labels)\n",
        "\n",
        "# Traducimos las etiquetas de test resultantes a las reales\n",
        "translated_test_preds = [translated_train_labels[label] for label in test_preds]\n",
        "print(\"\\nPredicciones reales: \", translated_test_preds)\n",
        "\n",
        "# Creamos el fichero de subida\n",
        "id_jpg_column = [test_img[(test_img.find(\"/\") + 1): ] for test_img in test_it.filenames]\n",
        "preds_dataset = pd.DataFrame({'id.jpg': id_jpg_column, 'label': translated_test_preds})\n",
        "preds_filename = \"submission_trained_xception.csv\"\n",
        "preds_dataset.to_csv(preds_filename, index=False)"
      ],
      "metadata": {
        "colab": {
          "base_uri": "https://localhost:8080/"
        },
        "id": "OGu8-Vyi1XGq",
        "outputId": "5f8bd152-4a0c-4d28-fb0e-667a58323eab"
      },
      "execution_count": 22,
      "outputs": [
        {
          "output_type": "stream",
          "name": "stdout",
          "text": [
            "Found 1618 images belonging to 1 classes.\n",
            "\n",
            "Predicciones:  [ 0  0  0 ... 28 28 28]\n",
            "\n",
            "Etiquetas train:  {0: 10, 1: 11, 2: 12, 3: 13, 4: 14, 5: 15, 6: 16, 7: 17, 8: 18, 9: 19, 10: 1, 11: 20, 12: 21, 13: 22, 14: 23, 15: 24, 16: 25, 17: 26, 18: 27, 19: 28, 20: 29, 21: 2, 22: 3, 23: 4, 24: 5, 25: 6, 26: 7, 27: 8, 28: 9}\n",
            "\n",
            "Predicciones reales:  [10, 10, 10, 10, 10, 11, 10, 10, 10, 11, 10, 10, 10, 10, 10, 10, 10, 10, 10, 10, 10, 10, 10, 10, 10, 10, 10, 10, 11, 10, 10, 10, 10, 10, 10, 10, 10, 10, 10, 10, 10, 11, 11, 11, 11, 11, 11, 11, 11, 11, 11, 10, 11, 11, 11, 11, 11, 11, 11, 11, 11, 11, 11, 11, 11, 11, 11, 11, 11, 11, 11, 11, 11, 11, 11, 11, 11, 11, 11, 11, 11, 11, 11, 11, 11, 11, 11, 11, 11, 11, 11, 11, 11, 11, 11, 12, 12, 12, 12, 12, 12, 12, 12, 12, 12, 12, 12, 12, 12, 12, 12, 12, 12, 12, 12, 12, 12, 12, 12, 12, 12, 12, 12, 12, 12, 12, 12, 12, 12, 12, 12, 12, 12, 12, 12, 12, 12, 12, 12, 12, 12, 12, 12, 12, 12, 12, 12, 12, 12, 12, 12, 12, 12, 12, 12, 12, 12, 12, 13, 13, 13, 13, 13, 13, 13, 13, 13, 13, 13, 13, 13, 13, 13, 13, 13, 13, 13, 13, 13, 13, 13, 13, 13, 13, 13, 13, 13, 13, 13, 13, 13, 13, 13, 13, 13, 13, 13, 13, 13, 13, 13, 13, 13, 13, 13, 13, 13, 13, 14, 13, 13, 13, 13, 13, 13, 14, 14, 14, 14, 14, 14, 14, 14, 14, 14, 14, 14, 14, 14, 14, 14, 14, 14, 14, 14, 14, 14, 14, 14, 14, 14, 14, 14, 14, 14, 14, 14, 14, 14, 14, 14, 14, 14, 14, 14, 14, 14, 14, 14, 14, 14, 14, 14, 14, 14, 14, 14, 14, 14, 14, 14, 14, 14, 14, 14, 14, 14, 14, 14, 14, 15, 15, 15, 15, 15, 15, 15, 15, 15, 15, 15, 15, 15, 15, 15, 15, 15, 15, 15, 15, 15, 15, 15, 15, 15, 15, 15, 15, 5, 16, 15, 15, 15, 15, 15, 15, 15, 15, 15, 15, 15, 15, 15, 15, 15, 15, 15, 16, 15, 15, 15, 15, 5, 16, 16, 16, 16, 16, 16, 16, 16, 16, 16, 5, 16, 16, 16, 16, 16, 16, 17, 6, 16, 16, 16, 16, 16, 16, 16, 16, 16, 16, 16, 16, 16, 16, 16, 16, 16, 16, 16, 16, 16, 16, 16, 16, 16, 16, 16, 16, 16, 16, 16, 16, 16, 16, 16, 16, 16, 16, 16, 16, 16, 16, 16, 16, 16, 16, 16, 16, 16, 16, 16, 16, 16, 17, 17, 17, 17, 17, 17, 17, 17, 17, 17, 17, 17, 19, 17, 8, 17, 17, 17, 17, 17, 17, 17, 17, 17, 17, 17, 17, 17, 17, 17, 17, 17, 17, 17, 17, 17, 17, 17, 17, 17, 17, 17, 17, 17, 17, 17, 17, 17, 17, 17, 17, 17, 17, 17, 17, 17, 17, 17, 17, 17, 17, 17, 17, 17, 17, 17, 17, 17, 17, 17, 17, 17, 17, 18, 18, 18, 18, 18, 18, 18, 18, 18, 18, 18, 18, 18, 18, 18, 18, 18, 18, 18, 18, 18, 18, 18, 18, 18, 18, 18, 18, 18, 18, 18, 18, 18, 18, 18, 18, 18, 18, 18, 18, 18, 18, 18, 18, 18, 18, 18, 18, 18, 18, 18, 18, 18, 18, 18, 18, 18, 18, 18, 18, 18, 18, 18, 18, 18, 18, 18, 18, 18, 18, 18, 18, 18, 18, 18, 18, 18, 18, 18, 18, 19, 19, 19, 19, 19, 19, 19, 22, 19, 19, 19, 16, 19, 19, 19, 19, 19, 19, 19, 19, 19, 19, 19, 19, 19, 19, 19, 19, 19, 19, 19, 19, 19, 19, 19, 19, 19, 19, 19, 19, 19, 19, 19, 19, 19, 19, 19, 19, 19, 19, 1, 1, 1, 1, 1, 1, 1, 1, 1, 1, 1, 1, 1, 1, 1, 1, 1, 1, 1, 2, 5, 1, 1, 1, 1, 1, 1, 1, 1, 5, 1, 1, 1, 1, 1, 1, 4, 4, 1, 1, 1, 1, 20, 20, 19, 20, 20, 19, 20, 20, 20, 20, 18, 20, 20, 20, 20, 13, 20, 20, 20, 20, 18, 15, 20, 20, 18, 19, 20, 20, 20, 20, 20, 20, 20, 20, 20, 20, 20, 20, 19, 18, 24, 20, 24, 20, 15, 20, 20, 20, 20, 21, 21, 21, 21, 21, 21, 21, 21, 21, 21, 21, 21, 21, 21, 21, 21, 21, 21, 21, 21, 21, 21, 21, 21, 21, 21, 21, 21, 21, 21, 21, 21, 21, 21, 21, 21, 21, 21, 21, 21, 21, 21, 21, 21, 21, 21, 21, 21, 21, 21, 21, 21, 21, 21, 22, 21, 21, 22, 21, 21, 21, 21, 22, 22, 22, 22, 22, 22, 22, 22, 22, 22, 22, 22, 21, 21, 22, 22, 22, 22, 22, 21, 21, 21, 22, 22, 21, 22, 21, 21, 22, 21, 22, 21, 21, 21, 21, 21, 21, 21, 21, 22, 22, 23, 23, 23, 23, 23, 23, 23, 23, 23, 23, 23, 23, 23, 23, 23, 23, 23, 23, 23, 23, 23, 23, 23, 23, 23, 23, 23, 23, 23, 23, 23, 23, 23, 23, 23, 23, 23, 23, 23, 23, 23, 23, 23, 23, 23, 23, 23, 23, 23, 23, 23, 23, 23, 23, 23, 23, 23, 23, 23, 23, 23, 23, 23, 23, 23, 23, 23, 23, 23, 23, 23, 23, 23, 23, 24, 24, 20, 24, 24, 24, 24, 24, 24, 24, 24, 24, 24, 24, 24, 24, 24, 24, 24, 24, 24, 24, 24, 24, 24, 24, 24, 24, 24, 24, 24, 24, 24, 24, 24, 25, 24, 24, 24, 24, 24, 24, 24, 24, 24, 24, 24, 24, 24, 24, 27, 25, 25, 25, 25, 25, 25, 25, 25, 25, 27, 25, 25, 25, 25, 25, 25, 25, 25, 25, 25, 25, 25, 25, 25, 25, 25, 25, 25, 25, 25, 25, 25, 25, 25, 25, 25, 25, 25, 25, 25, 25, 25, 25, 25, 25, 25, 25, 25, 25, 24, 25, 25, 25, 25, 25, 25, 25, 25, 25, 25, 25, 26, 1, 1, 26, 26, 26, 26, 26, 27, 26, 26, 26, 26, 26, 26, 26, 26, 26, 26, 26, 26, 26, 26, 26, 26, 26, 26, 3, 26, 26, 26, 26, 26, 26, 26, 26, 26, 26, 26, 26, 26, 26, 26, 26, 26, 26, 26, 26, 26, 26, 27, 27, 27, 27, 27, 27, 27, 27, 27, 27, 27, 27, 27, 27, 27, 27, 27, 27, 27, 27, 27, 27, 27, 27, 27, 27, 27, 27, 27, 27, 27, 27, 27, 27, 27, 27, 27, 27, 27, 27, 27, 27, 27, 27, 27, 27, 27, 27, 27, 27, 27, 27, 27, 27, 27, 27, 27, 27, 27, 27, 27, 28, 28, 28, 28, 28, 28, 28, 28, 28, 28, 28, 28, 28, 28, 28, 28, 28, 28, 28, 28, 28, 28, 28, 28, 28, 26, 28, 28, 28, 28, 26, 28, 26, 28, 28, 28, 28, 28, 28, 28, 28, 28, 28, 28, 28, 28, 28, 28, 28, 28, 28, 28, 28, 28, 28, 29, 29, 29, 29, 29, 29, 29, 29, 29, 29, 29, 29, 29, 29, 29, 29, 29, 29, 29, 29, 29, 29, 29, 29, 29, 29, 29, 29, 29, 29, 29, 29, 29, 29, 29, 29, 29, 29, 29, 29, 29, 29, 29, 29, 29, 29, 29, 29, 29, 29, 29, 2, 2, 2, 2, 2, 2, 2, 2, 2, 2, 2, 2, 2, 2, 2, 2, 2, 2, 2, 2, 2, 2, 2, 2, 2, 2, 2, 2, 2, 2, 2, 2, 2, 2, 2, 2, 2, 2, 2, 2, 2, 2, 2, 2, 2, 2, 2, 2, 2, 2, 2, 3, 3, 3, 3, 3, 3, 3, 3, 3, 3, 3, 3, 3, 3, 3, 3, 3, 3, 3, 3, 3, 3, 3, 3, 3, 3, 3, 3, 3, 3, 3, 3, 3, 3, 26, 26, 26, 3, 3, 3, 26, 3, 1, 3, 24, 3, 3, 3, 5, 3, 3, 3, 4, 4, 4, 4, 4, 4, 4, 4, 4, 4, 4, 4, 4, 4, 4, 4, 4, 4, 4, 4, 4, 4, 4, 4, 4, 4, 4, 4, 4, 4, 4, 4, 4, 4, 4, 4, 4, 4, 4, 4, 4, 4, 4, 4, 4, 4, 4, 5, 5, 5, 5, 5, 5, 5, 5, 5, 28, 5, 5, 28, 4, 5, 5, 5, 5, 5, 5, 5, 5, 5, 5, 5, 5, 5, 5, 5, 5, 3, 5, 5, 5, 5, 5, 5, 5, 5, 5, 5, 5, 5, 5, 5, 5, 5, 5, 5, 5, 5, 5, 5, 5, 5, 5, 5, 5, 5, 5, 5, 5, 5, 5, 5, 5, 5, 5, 5, 5, 5, 5, 5, 5, 5, 5, 5, 5, 5, 5, 5, 5, 5, 5, 5, 5, 5, 5, 5, 5, 5, 6, 6, 6, 6, 6, 6, 6, 6, 6, 6, 6, 6, 6, 6, 6, 6, 6, 6, 6, 6, 6, 6, 6, 6, 6, 6, 6, 6, 6, 6, 6, 6, 6, 6, 7, 7, 7, 7, 7, 7, 7, 7, 7, 7, 7, 7, 7, 7, 7, 7, 7, 7, 7, 7, 7, 7, 7, 7, 7, 7, 7, 7, 7, 7, 7, 7, 7, 7, 7, 7, 8, 11, 8, 8, 8, 8, 8, 8, 8, 8, 8, 8, 8, 8, 8, 8, 8, 8, 11, 8, 8, 8, 8, 8, 8, 8, 8, 8, 8, 8, 8, 8, 8, 8, 8, 8, 8, 8, 8, 8, 8, 8, 8, 8, 8, 8, 8, 8, 8, 8, 14, 8, 8, 8, 8, 11, 8, 8, 9, 9, 9, 9, 9, 9, 9, 9, 9, 9, 9, 15, 5, 16, 9, 9, 9, 9, 9, 9, 9, 9, 9, 9, 9, 9, 9, 9, 9, 9, 15, 9, 9, 9, 9, 9, 9, 9, 9, 9, 15, 9, 9, 9]\n"
          ]
        }
      ]
    },
    {
      "cell_type": "code",
      "source": [
        "# Gráfica de la evolución de entrenamiento y validación durante las épocas\n",
        "import matplotlib.pyplot as plt\n",
        "\n",
        "acc = history.history['accuracy']\n",
        "val_acc = history.history['val_accuracy']\n",
        "plt.figure(figsize=(8, 8))\n",
        "plt.subplot(2, 1, 1)\n",
        "plt.plot(acc, label='Training Accuracy')\n",
        "plt.plot(val_acc, label='Validation Accuracy')\n",
        "plt.legend(loc='lower right')\n",
        "plt.ylabel('Accuracy')\n",
        "plt.ylim([min(plt.ylim()),1])\n",
        "plt.title('Training and Validation Accuracy')"
      ],
      "metadata": {
        "colab": {
          "base_uri": "https://localhost:8080/",
          "height": 279
        },
        "id": "lBbpi_j1Sgel",
        "outputId": "bacc6e18-1194-4308-9b72-811c63c32248"
      },
      "execution_count": 23,
      "outputs": [
        {
          "output_type": "execute_result",
          "data": {
            "text/plain": [
              "Text(0.5, 1.0, 'Training and Validation Accuracy')"
            ]
          },
          "metadata": {},
          "execution_count": 23
        },
        {
          "output_type": "display_data",
          "data": {
            "text/plain": [
              "<Figure size 576x576 with 1 Axes>"
            ],
            "image/png": "[encoded data removed]"
          },
          "metadata": {
            "needs_background": "light"
          }
        }
      ]
    }
  ]
}