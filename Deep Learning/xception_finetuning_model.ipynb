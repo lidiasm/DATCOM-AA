{
  "nbformat": 4,
  "nbformat_minor": 0,
  "metadata": {
    "colab": {
      "name": "xception_finetuning_model.ipynb",
      "provenance": []
    },
    "kernelspec": {
      "name": "python3",
      "display_name": "Python 3"
    },
    "language_info": {
      "name": "python"
    },
    "accelerator": "GPU"
  },
  "cells": [
    {
      "cell_type": "markdown",
      "source": [
        "# Modelo Xception \n",
        "\n"
      ],
      "metadata": {
        "id": "yHzHtPWKNyx3"
      }
    },
    {
      "cell_type": "code",
      "execution_count": 1,
      "metadata": {
        "id": "6oULkTIVBvcZ"
      },
      "outputs": [],
      "source": [
        "# Carga de librerías \n",
        "import pandas as pd \n",
        "import numpy as np\n",
        "import tensorflow as tf\n",
        "from tensorflow.keras.preprocessing.image import ImageDataGenerator\n",
        "from tensorflow.keras.applications import Xception\n",
        "from tensorflow.keras.layers import Input, Flatten, Dense, Dropout\n",
        "from tensorflow.keras.models import Model, load_model\n",
        "from tensorflow.keras.optimizers import Adam"
      ]
    },
    {
      "cell_type": "code",
      "source": [
        "# Montamos el directorio Drive para obtener las imágenes\n",
        "from google.colab import drive\n",
        "drive.mount('/content/gdrive')"
      ],
      "metadata": {
        "colab": {
          "base_uri": "https://localhost:8080/"
        },
        "id": "ARwJENv8OY4K",
        "outputId": "e53cdc3d-0ef5-462b-e565-c80e7e52af57"
      },
      "execution_count": 2,
      "outputs": [
        {
          "output_type": "stream",
          "name": "stdout",
          "text": [
            "Mounted at /content/gdrive\n"
          ]
        }
      ]
    },
    {
      "cell_type": "code",
      "source": [
        "# Parámetros de las imágenes\n",
        "HEIGHT = 224\n",
        "WIDTH = 224\n",
        "CHANNELS = 3\n",
        "N_CLASSES = 29\n",
        "TRAIN_DIR = \"/content/gdrive/MyDrive/Backup/DATCOM/AA/Sentinel2LULC_354/Sentinel2LULC_354/\"\n",
        "TEST_DIR = \"/content/gdrive/MyDrive/Backup/DATCOM/AA/Test 2\"\n",
        "\n",
        "# Parámetros de entrenamiento\n",
        "BATCH_SIZE = 64\n",
        "EPOCHS = 25\n",
        "LEARNING_RATE = 0.001 # default\n",
        "LOSS = 'categorical_crossentropy'\n",
        "METRICS = ['accuracy', 'AUC']"
      ],
      "metadata": {
        "id": "EmFXDiclB_ru"
      },
      "execution_count": 3,
      "outputs": []
    },
    {
      "cell_type": "code",
      "source": [
        "# Leemos las imágenes de entrenamiento y las dividimos en 80% para entrenamiento\n",
        "# del modelo y 20% para validación \n",
        "train_datagenerator = ImageDataGenerator(rescale=1/255, validation_split=0.2)\n",
        "train_it = train_datagenerator.flow_from_directory(directory=TRAIN_DIR,\n",
        "                                                    target_size=(HEIGHT, WIDTH),\n",
        "                                                    class_mode='categorical',\n",
        "                                                    batch_size=BATCH_SIZE,\n",
        "                                                    subset='training')\n",
        "validation_it = train_datagenerator.flow_from_directory(directory=TRAIN_DIR,\n",
        "                                                        target_size=(HEIGHT, WIDTH),\n",
        "                                                        class_mode='categorical',\n",
        "                                                        batch_size=BATCH_SIZE,\n",
        "                                                        subset='validation')"
      ],
      "metadata": {
        "colab": {
          "base_uri": "https://localhost:8080/"
        },
        "id": "RzpI9slpCDpW",
        "outputId": "520dfff7-72e6-47b7-da1b-c0a617d54171"
      },
      "execution_count": 4,
      "outputs": [
        {
          "output_type": "stream",
          "name": "stdout",
          "text": [
            "Found 8236 images belonging to 29 classes.\n",
            "Found 2030 images belonging to 29 classes.\n"
          ]
        }
      ]
    },
    {
      "cell_type": "code",
      "source": [
        "# Cargamos el modelo Xception con los pesos de haber sido enterenado con ImageNET\n",
        "base_model = Xception(weights='imagenet', include_top=False, input_shape=(HEIGHT, WIDTH, CHANNELS))\n",
        "print(\"Nº de capas: \", len(base_model.layers))"
      ],
      "metadata": {
        "colab": {
          "base_uri": "https://localhost:8080/"
        },
        "id": "8fctT1jCy0YF",
        "outputId": "470b774d-0215-4c72-c0d8-a3499223268e"
      },
      "execution_count": 5,
      "outputs": [
        {
          "output_type": "stream",
          "name": "stdout",
          "text": [
            "Downloading data from https://storage.googleapis.com/tensorflow/keras-applications/xception/xception_weights_tf_dim_ordering_tf_kernels_notop.h5\n",
            "83689472/83683744 [==============================] - 0s 0us/step\n",
            "83697664/83683744 [==============================] - 0s 0us/step\n",
            "Nº de capas:  132\n"
          ]
        }
      ]
    },
    {
      "cell_type": "code",
      "source": [
        "# PRIMERA VERSIÓN: sin re-entrenar ninguna capa\n",
        "base_model.trainable = False"
      ],
      "metadata": {
        "id": "rv_xo8HzOxJE"
      },
      "execution_count": null,
      "outputs": []
    },
    {
      "cell_type": "code",
      "source": [
        "# SEGUNDA VERSIÓN: finetuning re-entrenando algunas capas\n",
        "base_model.trainable = True\n",
        "# Número de capas a re-entrenar\n",
        "fine_tune_at = 100 #10 #50\n",
        "# Congelamos los pesos de todas las capas anteriores a las que se van a re-entrenar\n",
        "for layer in base_model.layers[:fine_tune_at]:\n",
        "  layer.trainable =  False"
      ],
      "metadata": {
        "id": "hQnmCI_WO_gN"
      },
      "execution_count": 10,
      "outputs": []
    },
    {
      "cell_type": "code",
      "source": [
        "# Adaptamos el modelo a nuestro problema\n",
        "input_layer = Input(shape=(HEIGHT, WIDTH, CHANNELS), name='input_image')\n",
        "output_conv = base_model(input_layer)\n",
        "x = Flatten(name='flatten')(output_conv) \n",
        "x = Dense(N_CLASSES, activation='softmax', name='classes')(x)\n",
        "model = Model(inputs=input_layer, outputs=x)\n",
        "opt = Adam(learning_rate=LEARNING_RATE)\n",
        "model.compile(optimizer=opt, loss=LOSS, metrics=METRICS)\n",
        "history = model.fit(train_it,\n",
        "          validation_data=validation_it,\n",
        "          steps_per_epoch=train_it.n // BATCH_SIZE,\n",
        "          validation_steps=validation_it.n // BATCH_SIZE,\n",
        "          epochs=EPOCHS,\n",
        "          workers=100,\n",
        "          use_multiprocessing=True)\n",
        "# Guardamos el modelo en un fichero\n",
        "model_filename = \"xception_model.h5\"\n",
        "model.save(model_filename)"
      ],
      "metadata": {
        "colab": {
          "base_uri": "https://localhost:8080/"
        },
        "id": "BdiwcV32VS5v",
        "outputId": "7b61560e-145a-485e-f2c2-71edd31ce89d"
      },
      "execution_count": null,
      "outputs": [
        {
          "output_type": "stream",
          "name": "stdout",
          "text": [
            "Epoch 1/25\n",
            "128/128 [==============================] - 58s 393ms/step - loss: 0.1700 - accuracy: 0.9654 - auc: 0.9991 - val_loss: 0.9557 - val_accuracy: 0.8029 - val_auc: 0.9609\n",
            "Epoch 2/25\n",
            "128/128 [==============================] - 49s 345ms/step - loss: 0.0311 - accuracy: 0.9903 - auc: 0.9997 - val_loss: 1.1648 - val_accuracy: 0.8180 - val_auc: 0.9561\n",
            "Epoch 3/25\n",
            "128/128 [==============================] - 49s 347ms/step - loss: 0.0156 - accuracy: 0.9958 - auc: 0.9998 - val_loss: 1.5990 - val_accuracy: 0.8231 - val_auc: 0.9488\n",
            "Epoch 4/25\n",
            "128/128 [==============================] - 49s 346ms/step - loss: 0.0242 - accuracy: 0.9940 - auc: 0.9996 - val_loss: 1.5696 - val_accuracy: 0.8206 - val_auc: 0.9438\n",
            "Epoch 5/25\n",
            "128/128 [==============================] - 49s 346ms/step - loss: 0.0132 - accuracy: 0.9967 - auc: 0.9997 - val_loss: 1.7947 - val_accuracy: 0.8110 - val_auc: 0.9415\n",
            "Epoch 6/25\n",
            "128/128 [==============================] - 49s 347ms/step - loss: 0.0369 - accuracy: 0.9923 - auc: 0.9992 - val_loss: 1.7312 - val_accuracy: 0.8065 - val_auc: 0.9433\n",
            "Epoch 7/25\n",
            "128/128 [==============================] - 50s 347ms/step - loss: 0.0132 - accuracy: 0.9957 - auc: 0.9998 - val_loss: 1.6973 - val_accuracy: 0.8332 - val_auc: 0.9438\n",
            "Epoch 8/25\n",
            "128/128 [==============================] - 49s 348ms/step - loss: 0.0042 - accuracy: 0.9990 - auc: 0.9999 - val_loss: 1.6150 - val_accuracy: 0.8382 - val_auc: 0.9446\n",
            "Epoch 9/25\n",
            "128/128 [==============================] - 49s 350ms/step - loss: 0.0081 - accuracy: 0.9982 - auc: 0.9998 - val_loss: 2.1099 - val_accuracy: 0.8231 - val_auc: 0.9376\n",
            "Epoch 10/25\n",
            "128/128 [==============================] - 53s 358ms/step - loss: 0.0170 - accuracy: 0.9944 - auc: 0.9997 - val_loss: 1.6674 - val_accuracy: 0.8105 - val_auc: 0.9386\n",
            "Epoch 11/25\n",
            "128/128 [==============================] - 50s 354ms/step - loss: 0.0294 - accuracy: 0.9942 - auc: 0.9994 - val_loss: 1.7269 - val_accuracy: 0.8100 - val_auc: 0.9386\n",
            "Epoch 12/25\n",
            "128/128 [==============================] - 52s 354ms/step - loss: 0.0208 - accuracy: 0.9946 - auc: 0.9994 - val_loss: 1.8317 - val_accuracy: 0.8180 - val_auc: 0.9420\n",
            "Epoch 13/25\n",
            "128/128 [==============================] - 51s 350ms/step - loss: 0.0213 - accuracy: 0.9939 - auc: 0.9997 - val_loss: 1.8876 - val_accuracy: 0.8054 - val_auc: 0.9403\n",
            "Epoch 14/25\n",
            "128/128 [==============================] - 52s 350ms/step - loss: 0.0248 - accuracy: 0.9935 - auc: 0.9994 - val_loss: 2.6287 - val_accuracy: 0.7873 - val_auc: 0.9268\n",
            "Epoch 15/25\n",
            "128/128 [==============================] - 50s 356ms/step - loss: 0.0244 - accuracy: 0.9961 - auc: 0.9995 - val_loss: 3.1103 - val_accuracy: 0.7984 - val_auc: 0.9273\n",
            "Epoch 16/25\n",
            "128/128 [==============================] - 49s 346ms/step - loss: 0.0469 - accuracy: 0.9935 - auc: 0.9989 - val_loss: 2.2131 - val_accuracy: 0.8165 - val_auc: 0.9402\n",
            "Epoch 17/25\n",
            "128/128 [==============================] - 50s 348ms/step - loss: 0.0032 - accuracy: 0.9988 - auc: 1.0000 - val_loss: 2.2055 - val_accuracy: 0.8221 - val_auc: 0.9379\n",
            "Epoch 18/25\n",
            "128/128 [==============================] - 52s 348ms/step - loss: 0.0153 - accuracy: 0.9968 - auc: 0.9996 - val_loss: 2.4890 - val_accuracy: 0.8125 - val_auc: 0.9329\n",
            "Epoch 19/25\n",
            "128/128 [==============================] - 51s 347ms/step - loss: 0.0110 - accuracy: 0.9971 - auc: 0.9998 - val_loss: 2.6368 - val_accuracy: 0.8256 - val_auc: 0.9348\n",
            "Epoch 20/25\n",
            "128/128 [==============================] - 47s 321ms/step - loss: 0.0132 - accuracy: 0.9969 - auc: 0.9997 - val_loss: 2.9298 - val_accuracy: 0.8170 - val_auc: 0.9312\n",
            "Epoch 21/25\n",
            "128/128 [==============================] - 50s 350ms/step - loss: 0.0071 - accuracy: 0.9978 - auc: 0.9998 - val_loss: 2.6621 - val_accuracy: 0.8125 - val_auc: 0.9295\n",
            "Epoch 22/25\n",
            "128/128 [==============================] - 49s 352ms/step - loss: 0.0186 - accuracy: 0.9962 - auc: 0.9996 - val_loss: 2.5505 - val_accuracy: 0.8271 - val_auc: 0.9384\n",
            "Epoch 23/25\n",
            "128/128 [==============================] - 50s 344ms/step - loss: 0.0098 - accuracy: 0.9977 - auc: 0.9998 - val_loss: 2.5013 - val_accuracy: 0.8276 - val_auc: 0.9389\n"
          ]
        }
      ]
    },
    {
      "cell_type": "code",
      "source": [
        "# Cargamos las imágenes de test\n",
        "test_datagenerator = ImageDataGenerator(rescale=1./255)\n",
        "test_it = test_datagenerator.flow_from_directory(directory=TEST_DIR,\n",
        "                                                  target_size=(HEIGHT, WIDTH),\n",
        "                                                  batch_size= 1,\n",
        "                                                  class_mode=None,\n",
        "                                                  shuffle=False)\n",
        "# Reseteamos el iterador sobre las imágenes de test\n",
        "test_it.reset()\n",
        "\n",
        "# Predecimos con el modelo entrenado sobre las imágenes de test\n",
        "test_probs = model.predict(test_it, steps=test_it.samples)\n",
        "test_preds = np.argmax(test_probs, axis=1)\n",
        "print(\"\\nPredicciones: \", test_preds)\n",
        "\n",
        "# Construimos un traductor entre las etiquetas automáticamente generadas por Keras\n",
        "# y las reales a partir de los nombres de las carpetas de entrenamiento\n",
        "translated_train_labels = {train_it.class_indices[key]:int(key[:key.index(\"_\")]) \n",
        "                        for key in train_it.class_indices}\n",
        "print(\"\\nEtiquetas train: \", translated_train_labels)\n",
        "\n",
        "# Traducimos las etiquetas de test resultantes a las reales\n",
        "translated_test_preds = [translated_train_labels[label] for label in test_preds]\n",
        "print(\"\\nPredicciones reales: \", translated_test_preds)\n",
        "\n",
        "# Creamos el fichero de subida\n",
        "id_jpg_column = [test_img[(test_img.find(\"/\") + 1): ] for test_img in test_it.filenames]\n",
        "preds_dataset = pd.DataFrame({'id.jpg': id_jpg_column, 'label': translated_test_preds})\n",
        "preds_filename = \"submission_xception.csv\"\n",
        "preds_dataset.to_csv(preds_filename, index=False)"
      ],
      "metadata": {
        "colab": {
          "base_uri": "https://localhost:8080/"
        },
        "id": "OGu8-Vyi1XGq",
        "outputId": "ccbf9eab-5cc1-4487-b971-e9c2efebaa27"
      },
      "execution_count": 8,
      "outputs": [
        {
          "output_type": "stream",
          "name": "stdout",
          "text": [
            "Found 1618 images belonging to 1 classes.\n",
            "\n",
            "Predicciones:  [ 0  0  0 ... 28 28 28]\n",
            "\n",
            "Etiquetas train:  {0: 10, 1: 11, 2: 12, 3: 13, 4: 14, 5: 15, 6: 16, 7: 17, 8: 18, 9: 19, 10: 1, 11: 20, 12: 21, 13: 22, 14: 23, 15: 24, 16: 25, 17: 26, 18: 27, 19: 28, 20: 29, 21: 2, 22: 3, 23: 4, 24: 5, 25: 6, 26: 7, 27: 8, 28: 9}\n",
            "\n",
            "Predicciones reales:  [10, 10, 10, 10, 10, 10, 10, 10, 10, 10, 10, 10, 10, 10, 10, 10, 10, 10, 10, 10, 10, 10, 10, 10, 10, 10, 10, 10, 10, 10, 10, 10, 10, 10, 10, 10, 10, 10, 10, 10, 10, 11, 11, 11, 11, 11, 11, 11, 11, 11, 11, 11, 10, 11, 11, 11, 11, 11, 11, 11, 11, 10, 11, 11, 11, 11, 11, 11, 10, 11, 11, 11, 11, 10, 11, 11, 11, 11, 11, 11, 11, 11, 11, 11, 11, 11, 11, 11, 11, 11, 11, 11, 11, 11, 11, 12, 12, 12, 12, 12, 12, 12, 12, 12, 12, 12, 12, 12, 12, 12, 12, 12, 12, 12, 12, 12, 12, 12, 12, 12, 12, 12, 12, 12, 12, 12, 12, 12, 12, 12, 12, 12, 12, 12, 12, 12, 12, 12, 12, 12, 12, 12, 12, 12, 12, 12, 12, 12, 12, 12, 12, 12, 12, 12, 12, 12, 12, 12, 13, 13, 13, 13, 13, 13, 13, 13, 13, 13, 13, 13, 13, 13, 13, 13, 13, 13, 13, 13, 13, 13, 13, 13, 13, 13, 13, 13, 13, 13, 13, 13, 13, 13, 13, 13, 13, 13, 13, 13, 13, 13, 13, 13, 13, 13, 13, 13, 13, 13, 14, 13, 13, 13, 13, 13, 13, 14, 14, 14, 14, 14, 14, 14, 14, 14, 14, 14, 14, 14, 14, 14, 14, 14, 14, 14, 14, 7, 14, 7, 14, 14, 14, 14, 14, 14, 14, 14, 14, 7, 14, 14, 14, 7, 14, 14, 14, 14, 14, 14, 14, 14, 14, 14, 14, 14, 14, 14, 14, 14, 14, 14, 14, 14, 14, 14, 14, 14, 14, 14, 14, 14, 15, 15, 9, 15, 15, 9, 9, 9, 9, 9, 15, 9, 15, 9, 15, 9, 9, 15, 15, 15, 15, 15, 15, 9, 15, 15, 15, 15, 5, 9, 15, 9, 15, 15, 15, 15, 15, 15, 15, 15, 15, 15, 10, 15, 9, 9, 15, 10, 15, 15, 15, 15, 5, 7, 16, 16, 15, 6, 16, 6, 16, 16, 12, 5, 16, 16, 10, 10, 15, 10, 17, 6, 16, 6, 16, 10, 6, 16, 12, 9, 16, 16, 16, 5, 6, 16, 16, 16, 16, 6, 17, 16, 15, 16, 10, 16, 16, 10, 10, 6, 6, 6, 7, 6, 16, 16, 16, 16, 10, 10, 6, 10, 16, 10, 16, 6, 16, 6, 5, 16, 16, 9, 9, 16, 16, 17, 17, 17, 17, 17, 17, 13, 17, 17, 17, 17, 17, 17, 17, 13, 17, 17, 17, 17, 17, 17, 17, 17, 17, 17, 17, 17, 17, 17, 17, 17, 17, 17, 17, 17, 17, 17, 17, 17, 17, 17, 17, 17, 17, 17, 13, 17, 17, 17, 17, 17, 17, 17, 17, 17, 13, 17, 17, 17, 17, 17, 17, 13, 17, 17, 17, 17, 17, 17, 17, 17, 17, 17, 18, 18, 18, 18, 18, 18, 18, 18, 18, 18, 18, 18, 18, 18, 18, 18, 18, 18, 18, 18, 18, 18, 18, 18, 18, 18, 18, 18, 18, 18, 18, 18, 18, 18, 18, 18, 18, 18, 18, 18, 18, 18, 18, 18, 18, 18, 18, 18, 18, 18, 18, 18, 18, 18, 18, 12, 18, 18, 18, 18, 18, 18, 18, 18, 18, 18, 18, 18, 18, 18, 18, 18, 18, 18, 18, 18, 18, 18, 18, 18, 19, 19, 12, 19, 19, 12, 19, 20, 19, 19, 19, 13, 19, 12, 19, 19, 19, 19, 19, 19, 19, 19, 19, 19, 19, 19, 19, 19, 19, 19, 19, 19, 19, 19, 19, 19, 19, 19, 19, 19, 19, 19, 19, 19, 19, 19, 19, 20, 19, 19, 1, 1, 1, 1, 1, 1, 1, 1, 1, 3, 1, 1, 3, 5, 2, 5, 2, 2, 1, 2, 2, 1, 1, 1, 1, 2, 1, 2, 1, 5, 2, 4, 2, 2, 2, 1, 4, 4, 26, 1, 1, 2, 20, 12, 13, 12, 20, 13, 20, 20, 20, 9, 19, 20, 20, 9, 12, 13, 12, 20, 20, 20, 18, 20, 20, 9, 5, 19, 20, 20, 20, 12, 20, 20, 20, 20, 20, 18, 12, 20, 9, 20, 24, 12, 20, 20, 20, 20, 20, 20, 20, 21, 22, 21, 21, 21, 21, 21, 21, 21, 21, 21, 21, 21, 21, 21, 21, 21, 21, 21, 21, 21, 21, 21, 22, 21, 21, 22, 21, 21, 22, 21, 22, 21, 21, 21, 22, 21, 21, 21, 21, 21, 21, 21, 21, 21, 22, 21, 22, 21, 21, 21, 21, 21, 21, 22, 21, 21, 22, 21, 21, 21, 21, 22, 22, 22, 21, 22, 21, 22, 22, 14, 22, 22, 22, 21, 21, 22, 22, 22, 22, 21, 21, 21, 22, 22, 21, 21, 21, 21, 21, 22, 21, 21, 21, 21, 21, 21, 21, 21, 21, 21, 22, 22, 23, 23, 23, 23, 23, 23, 23, 23, 23, 23, 23, 23, 23, 23, 23, 23, 23, 23, 23, 23, 23, 23, 23, 23, 23, 23, 23, 23, 23, 23, 23, 23, 23, 23, 23, 23, 23, 23, 23, 23, 23, 23, 23, 23, 23, 23, 23, 23, 23, 23, 23, 23, 23, 23, 23, 23, 23, 23, 23, 23, 23, 23, 23, 23, 23, 23, 23, 23, 23, 23, 23, 23, 23, 23, 24, 24, 24, 24, 24, 24, 28, 24, 24, 28, 24, 24, 24, 24, 24, 26, 24, 24, 24, 24, 24, 24, 28, 28, 28, 24, 24, 24, 24, 24, 24, 24, 28, 25, 24, 24, 24, 24, 24, 24, 24, 24, 28, 24, 28, 24, 28, 24, 24, 28, 27, 25, 26, 25, 25, 25, 25, 25, 25, 25, 27, 25, 25, 25, 25, 25, 25, 25, 25, 25, 25, 25, 24, 25, 25, 25, 25, 24, 25, 25, 25, 25, 25, 25, 25, 25, 25, 25, 25, 25, 25, 25, 25, 25, 25, 25, 28, 25, 25, 25, 24, 25, 25, 25, 25, 25, 25, 25, 25, 25, 25, 24, 28, 9, 10, 26, 26, 26, 2, 26, 26, 26, 10, 26, 26, 26, 28, 26, 26, 26, 26, 26, 26, 26, 26, 26, 26, 26, 26, 26, 26, 26, 26, 26, 26, 9, 26, 26, 26, 26, 26, 26, 26, 26, 26, 26, 26, 26, 26, 26, 26, 26, 27, 27, 27, 27, 27, 27, 27, 27, 27, 27, 27, 27, 27, 27, 27, 27, 27, 27, 27, 27, 27, 27, 27, 27, 27, 27, 27, 27, 27, 27, 27, 27, 27, 27, 27, 27, 27, 27, 27, 27, 27, 27, 27, 27, 27, 27, 27, 27, 27, 27, 27, 27, 27, 27, 27, 27, 27, 27, 27, 27, 27, 28, 28, 28, 28, 28, 28, 28, 28, 28, 28, 28, 28, 28, 28, 28, 28, 28, 28, 28, 28, 28, 28, 28, 28, 28, 28, 28, 28, 28, 28, 28, 28, 28, 28, 28, 28, 28, 28, 28, 28, 28, 28, 28, 28, 28, 28, 28, 28, 28, 10, 28, 28, 28, 28, 28, 29, 29, 29, 29, 29, 29, 29, 29, 29, 29, 29, 29, 29, 29, 29, 29, 29, 29, 29, 29, 29, 29, 29, 29, 29, 29, 29, 29, 29, 29, 29, 29, 29, 29, 29, 29, 29, 29, 29, 29, 29, 29, 29, 29, 29, 29, 29, 29, 29, 29, 29, 2, 2, 2, 2, 2, 2, 2, 2, 2, 2, 2, 2, 2, 2, 2, 2, 2, 2, 2, 2, 2, 2, 2, 2, 2, 2, 2, 2, 2, 2, 2, 2, 2, 2, 2, 2, 2, 2, 2, 2, 2, 2, 2, 2, 2, 2, 2, 2, 2, 2, 2, 3, 3, 3, 3, 3, 3, 3, 3, 3, 3, 3, 3, 3, 3, 3, 3, 3, 3, 3, 3, 3, 1, 3, 3, 3, 3, 3, 3, 3, 3, 3, 3, 5, 3, 26, 26, 3, 26, 26, 26, 26, 26, 3, 5, 26, 5, 28, 3, 3, 3, 3, 3, 4, 4, 4, 4, 4, 4, 4, 4, 4, 4, 4, 4, 4, 4, 4, 4, 4, 4, 4, 4, 4, 4, 4, 4, 4, 4, 4, 4, 4, 4, 4, 4, 4, 4, 4, 4, 4, 4, 4, 4, 4, 4, 4, 4, 4, 4, 4, 5, 5, 5, 5, 5, 5, 5, 5, 5, 5, 5, 5, 28, 5, 5, 5, 5, 5, 3, 5, 5, 5, 5, 5, 5, 5, 5, 5, 5, 5, 5, 3, 5, 5, 5, 5, 5, 5, 5, 5, 5, 5, 5, 5, 5, 5, 6, 5, 5, 5, 5, 5, 5, 5, 5, 3, 5, 5, 5, 5, 5, 5, 5, 5, 5, 5, 5, 5, 5, 5, 5, 5, 5, 5, 5, 5, 5, 5, 5, 5, 5, 5, 5, 5, 5, 5, 5, 5, 5, 5, 5, 6, 6, 6, 6, 6, 6, 6, 6, 6, 6, 6, 6, 6, 6, 6, 6, 6, 6, 6, 6, 6, 6, 6, 6, 6, 6, 6, 6, 6, 6, 6, 6, 6, 6, 7, 7, 7, 7, 7, 7, 7, 7, 7, 7, 7, 7, 7, 7, 6, 7, 7, 7, 7, 7, 7, 7, 7, 7, 7, 7, 7, 7, 7, 7, 7, 7, 7, 7, 7, 7, 8, 11, 8, 10, 13, 8, 8, 8, 8, 11, 8, 8, 8, 17, 8, 8, 8, 8, 11, 8, 8, 8, 17, 8, 11, 8, 8, 8, 17, 8, 11, 8, 8, 8, 11, 8, 8, 8, 8, 8, 8, 17, 8, 8, 8, 8, 8, 8, 17, 13, 8, 8, 8, 8, 8, 8, 8, 11, 9, 9, 9, 9, 9, 9, 10, 9, 9, 9, 9, 9, 9, 9, 9, 9, 9, 9, 9, 9, 9, 9, 10, 9, 9, 9, 9, 9, 9, 9, 9, 9, 9, 9, 9, 9, 9, 9, 9, 9, 9, 9, 9, 9]\n"
          ]
        }
      ]
    },
    {
      "cell_type": "code",
      "source": [
        "# Gráfica de la evolución de entrenamiento y validación durante las épocas\n",
        "import matplotlib.pyplot as plt\n",
        "\n",
        "acc = history.history['accuracy']\n",
        "val_acc = history.history['val_accuracy']\n",
        "plt.figure(figsize=(8, 8))\n",
        "plt.subplot(2, 1, 1)\n",
        "plt.plot(acc, label='Training Accuracy')\n",
        "plt.plot(val_acc, label='Validation Accuracy')\n",
        "plt.legend(loc='lower right')\n",
        "plt.ylabel('Accuracy')\n",
        "plt.ylim([min(plt.ylim()),1])\n",
        "plt.title('Training and Validation Accuracy')"
      ],
      "metadata": {
        "colab": {
          "base_uri": "https://localhost:8080/",
          "height": 279
        },
        "id": "lBbpi_j1Sgel",
        "outputId": "a5264baf-e890-493b-9550-26148804ead6"
      },
      "execution_count": 9,
      "outputs": [
        {
          "output_type": "execute_result",
          "data": {
            "text/plain": [
              "Text(0.5, 1.0, 'Training and Validation Accuracy')"
            ]
          },
          "metadata": {},
          "execution_count": 9
        },
        {
          "output_type": "display_data",
          "data": {
            "text/plain": [
              "<Figure size 576x576 with 1 Axes>"
            ],
            "image/png": "[encoded data removed]"
          },
          "metadata": {
            "needs_background": "light"
          }
        }
      ]
    }
  ]
}