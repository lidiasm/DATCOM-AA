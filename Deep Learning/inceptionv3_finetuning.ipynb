{
  "cells": [
    {
      "cell_type": "code",
      "execution_count": 1,
      "metadata": {
        "id": "S-JwkrFkQXNI"
      },
      "outputs": [],
      "source": [
        "# Carga de librerías \n",
        "import pandas as pd \n",
        "import numpy as np\n",
        "import tensorflow as tf\n",
        "from tensorflow.keras.preprocessing.image import ImageDataGenerator\n",
        "from tensorflow.keras.applications import InceptionResNetV2, InceptionV3\n",
        "from tensorflow.keras.layers import Input, Flatten, Dense, Dropout\n",
        "from tensorflow.keras.models import Model, load_model\n",
        "from tensorflow.keras.optimizers import Adam"
      ]
    },
    {
      "cell_type": "code",
      "execution_count": 2,
      "metadata": {
        "colab": {
          "base_uri": "https://localhost:8080/"
        },
        "id": "jZT-zvVdQZTd",
        "outputId": "b51c547b-b58f-42a7-f20f-b0b377cec6b5"
      },
      "outputs": [
        {
          "output_type": "stream",
          "name": "stdout",
          "text": [
            "Mounted at /content/gdrive\n"
          ]
        }
      ],
      "source": [
        "# Montamos el directorio Drive para obtener las imágenes\n",
        "from google.colab import drive\n",
        "drive.mount('/content/gdrive')"
      ]
    },
    {
      "cell_type": "code",
      "execution_count": 8,
      "metadata": {
        "id": "rnLwSwSqQdGz"
      },
      "outputs": [],
      "source": [
        "# Parámetros de las imágenes\n",
        "HEIGHT = 224\n",
        "WIDTH = 224\n",
        "CHANNELS = 3\n",
        "N_CLASSES = 29\n",
        "TRAIN_DIR = \"/content/gdrive/MyDrive/Backup/DATCOM/AA/Sentinel2LULC_354/Sentinel2LULC_354/\"\n",
        "AUG_TRAIN_DIR = \"/content/gdrive/MyDrive/Backup/DATCOM/AA/Sentinel2LULC_354_augmented/Sentinel2LULC_354_augmented/\"\n",
        "TEST_DIR = \"/content/gdrive/MyDrive/Backup/DATCOM/AA/Test 2\"\n",
        "\n",
        "# Parámetros de entrenamiento\n",
        "BATCH_SIZE = 64\n",
        "EPOCHS = 25\n",
        "LEARNING_RATE = 1e-4 # default 0.001\n",
        "LOSS = 'categorical_crossentropy'\n",
        "METRICS = ['accuracy', 'AUC']"
      ]
    },
    {
      "cell_type": "code",
      "execution_count": 4,
      "metadata": {
        "colab": {
          "base_uri": "https://localhost:8080/"
        },
        "id": "7hMvDnE5Qu-b",
        "outputId": "2cf982e5-d815-4f4d-aefb-2f893f63796c"
      },
      "outputs": [
        {
          "output_type": "stream",
          "name": "stdout",
          "text": [
            "Found 8236 images belonging to 29 classes.\n",
            "Found 2030 images belonging to 29 classes.\n"
          ]
        }
      ],
      "source": [
        "# Leemos las imágenes de entrenamiento y las dividimos en 80% para entrenamiento\n",
        "# del modelo y 20% para validación \n",
        "train_datagenerator = ImageDataGenerator(rescale=1/255, \n",
        "                                         validation_split=0.2,\n",
        "                                         rotation_range=45,\n",
        "                                         width_shift_range=.15,\n",
        "                                         height_shift_range=.15,\n",
        "                                         horizontal_flip=True,\n",
        "                                         vertical_flip=True,\n",
        "                                         zoom_range=0.5)\n",
        "train_it = train_datagenerator.flow_from_directory(directory=TRAIN_DIR,\n",
        "                                                    target_size=(HEIGHT, WIDTH),\n",
        "                                                    class_mode='categorical',\n",
        "                                                    batch_size=BATCH_SIZE,\n",
        "                                                    subset='training')\n",
        "validation_it = train_datagenerator.flow_from_directory(directory=TRAIN_DIR,\n",
        "                                                        target_size=(HEIGHT, WIDTH),\n",
        "                                                        class_mode='categorical',\n",
        "                                                        batch_size=BATCH_SIZE,\n",
        "                                                        subset='validation')"
      ]
    },
    {
      "cell_type": "code",
      "execution_count": 5,
      "metadata": {
        "colab": {
          "base_uri": "https://localhost:8080/"
        },
        "id": "1s87bJCrQ85D",
        "outputId": "e6ac2a8e-a4b9-4365-b615-61dcf4c72d68"
      },
      "outputs": [
        {
          "output_type": "stream",
          "name": "stdout",
          "text": [
            "Downloading data from https://storage.googleapis.com/tensorflow/keras-applications/inception_v3/inception_v3_weights_tf_dim_ordering_tf_kernels_notop.h5\n",
            "87916544/87910968 [==============================] - 2s 0us/step\n",
            "87924736/87910968 [==============================] - 2s 0us/step\n",
            "Nº de capas:  311\n"
          ]
        }
      ],
      "source": [
        "# Cargamos el modelo Xception con los pesos de haber sido enterenado con ImageNET\n",
        "base_model = InceptionV3(weights='imagenet', include_top=False, input_shape=(HEIGHT, WIDTH, CHANNELS))\n",
        "print(\"Nº de capas: \", len(base_model.layers))"
      ]
    },
    {
      "cell_type": "code",
      "execution_count": 6,
      "metadata": {
        "id": "1GNcdUtORMmj"
      },
      "outputs": [],
      "source": [
        "# PRIMERA VERSIÓN: finetuning re-entrenando algunas capas\n",
        "base_model.trainable = True\n",
        "# Número de capas a re-entrenar\n",
        "fine_tune_at = 211 \n",
        "# Congelamos los pesos de todas las capas anteriores a las que se van a re-entrenar\n",
        "for layer in base_model.layers[:fine_tune_at]:\n",
        "  layer.trainable =  False"
      ]
    },
    {
      "cell_type": "code",
      "source": [
        "# SEGUNDA VERSIÓN: re-entrenando todas las capas\n",
        "base_model.trainable = True"
      ],
      "metadata": {
        "id": "4saJIqg6VGrn"
      },
      "execution_count": null,
      "outputs": []
    },
    {
      "cell_type": "code",
      "execution_count": 9,
      "metadata": {
        "colab": {
          "base_uri": "https://localhost:8080/"
        },
        "id": "NAAD2PBNRSo8",
        "outputId": "67885369-2091-40c1-ca3c-1579622a759d"
      },
      "outputs": [
        {
          "output_type": "stream",
          "name": "stdout",
          "text": [
            "Epoch 1/35\n",
            "128/128 [==============================] - 53s 316ms/step - loss: 0.2531 - accuracy: 0.9232 - auc: 0.9974 - val_loss: 10.2917 - val_accuracy: 0.4627 - val_auc: 0.8012\n",
            "Epoch 2/35\n",
            "128/128 [==============================] - 44s 302ms/step - loss: 0.1725 - accuracy: 0.9501 - auc: 0.9967 - val_loss: 4.1343 - val_accuracy: 0.6084 - val_auc: 0.8947\n",
            "Epoch 3/35\n",
            "128/128 [==============================] - 45s 302ms/step - loss: 0.0863 - accuracy: 0.9716 - auc: 0.9988 - val_loss: 2.2693 - val_accuracy: 0.6588 - val_auc: 0.9099\n",
            "Epoch 4/35\n",
            "128/128 [==============================] - 44s 301ms/step - loss: 0.0766 - accuracy: 0.9763 - auc: 0.9988 - val_loss: 2.4062 - val_accuracy: 0.6250 - val_auc: 0.8992\n",
            "Epoch 5/35\n",
            "128/128 [==============================] - 46s 312ms/step - loss: 0.0836 - accuracy: 0.9704 - auc: 0.9990 - val_loss: 2.8363 - val_accuracy: 0.6487 - val_auc: 0.8877\n",
            "Epoch 6/35\n",
            "128/128 [==============================] - 46s 313ms/step - loss: 0.0633 - accuracy: 0.9767 - auc: 0.9993 - val_loss: 2.9071 - val_accuracy: 0.6290 - val_auc: 0.8852\n",
            "Epoch 7/35\n",
            "128/128 [==============================] - 48s 325ms/step - loss: 0.0719 - accuracy: 0.9756 - auc: 0.9992 - val_loss: 4.4176 - val_accuracy: 0.4859 - val_auc: 0.8236\n",
            "Epoch 8/35\n",
            "128/128 [==============================] - 45s 305ms/step - loss: 0.0738 - accuracy: 0.9753 - auc: 0.9990 - val_loss: 2.5410 - val_accuracy: 0.6431 - val_auc: 0.8993\n",
            "Epoch 9/35\n",
            "128/128 [==============================] - 44s 302ms/step - loss: 0.0735 - accuracy: 0.9754 - auc: 0.9988 - val_loss: 2.5091 - val_accuracy: 0.6552 - val_auc: 0.8976\n",
            "Epoch 10/35\n",
            "128/128 [==============================] - 47s 317ms/step - loss: 0.0809 - accuracy: 0.9733 - auc: 0.9986 - val_loss: 2.7147 - val_accuracy: 0.6522 - val_auc: 0.8906\n",
            "Epoch 11/35\n",
            "128/128 [==============================] - 46s 311ms/step - loss: 0.0764 - accuracy: 0.9758 - auc: 0.9990 - val_loss: 2.8926 - val_accuracy: 0.6421 - val_auc: 0.8948\n",
            "Epoch 12/35\n",
            "128/128 [==============================] - 46s 312ms/step - loss: 0.1011 - accuracy: 0.9708 - auc: 0.9980 - val_loss: 3.2514 - val_accuracy: 0.6114 - val_auc: 0.8768\n",
            "Epoch 13/35\n",
            "128/128 [==============================] - 47s 309ms/step - loss: 0.1345 - accuracy: 0.9659 - auc: 0.9968 - val_loss: 7.0892 - val_accuracy: 0.4758 - val_auc: 0.7921\n",
            "Epoch 14/35\n",
            "128/128 [==============================] - 45s 313ms/step - loss: 0.0700 - accuracy: 0.9785 - auc: 0.9991 - val_loss: 2.6944 - val_accuracy: 0.6416 - val_auc: 0.8889\n",
            "Epoch 15/35\n",
            "128/128 [==============================] - 46s 303ms/step - loss: 0.0480 - accuracy: 0.9837 - auc: 0.9992 - val_loss: 2.4818 - val_accuracy: 0.6784 - val_auc: 0.9069\n",
            "Epoch 16/35\n",
            "128/128 [==============================] - 44s 306ms/step - loss: 0.0499 - accuracy: 0.9849 - auc: 0.9990 - val_loss: 2.6182 - val_accuracy: 0.6648 - val_auc: 0.8987\n",
            "Epoch 17/35\n",
            "128/128 [==============================] - 45s 307ms/step - loss: 0.0418 - accuracy: 0.9846 - auc: 0.9996 - val_loss: 2.9328 - val_accuracy: 0.6421 - val_auc: 0.8876\n",
            "Epoch 18/35\n",
            "128/128 [==============================] - 43s 287ms/step - loss: 0.0331 - accuracy: 0.9885 - auc: 0.9997 - val_loss: 2.5705 - val_accuracy: 0.6724 - val_auc: 0.8964\n",
            "Epoch 19/35\n",
            "128/128 [==============================] - 45s 303ms/step - loss: 0.0508 - accuracy: 0.9841 - auc: 0.9993 - val_loss: 2.7137 - val_accuracy: 0.6542 - val_auc: 0.8925\n",
            "Epoch 20/35\n",
            "128/128 [==============================] - 45s 308ms/step - loss: 0.0361 - accuracy: 0.9901 - auc: 0.9995 - val_loss: 2.8126 - val_accuracy: 0.6663 - val_auc: 0.8923\n",
            "Epoch 21/35\n",
            "128/128 [==============================] - 46s 314ms/step - loss: 0.0410 - accuracy: 0.9853 - auc: 0.9995 - val_loss: 3.0599 - val_accuracy: 0.6431 - val_auc: 0.8867\n",
            "Epoch 22/35\n",
            "128/128 [==============================] - 45s 311ms/step - loss: 0.0504 - accuracy: 0.9845 - auc: 0.9993 - val_loss: 2.6818 - val_accuracy: 0.6588 - val_auc: 0.8957\n",
            "Epoch 23/35\n",
            "128/128 [==============================] - 45s 312ms/step - loss: 0.0821 - accuracy: 0.9767 - auc: 0.9982 - val_loss: 3.2882 - val_accuracy: 0.6179 - val_auc: 0.8792\n",
            "Epoch 24/35\n",
            "128/128 [==============================] - 45s 298ms/step - loss: 0.0634 - accuracy: 0.9782 - auc: 0.9991 - val_loss: 2.7996 - val_accuracy: 0.6285 - val_auc: 0.8847\n",
            "Epoch 25/35\n",
            "128/128 [==============================] - 44s 301ms/step - loss: 0.0445 - accuracy: 0.9843 - auc: 0.9997 - val_loss: 2.6525 - val_accuracy: 0.6552 - val_auc: 0.8985\n",
            "Epoch 26/35\n",
            "128/128 [==============================] - 45s 307ms/step - loss: 0.0493 - accuracy: 0.9845 - auc: 0.9992 - val_loss: 2.9174 - val_accuracy: 0.6507 - val_auc: 0.8970\n",
            "Epoch 27/35\n",
            "128/128 [==============================] - 47s 311ms/step - loss: 0.0388 - accuracy: 0.9883 - auc: 0.9993 - val_loss: 2.4257 - val_accuracy: 0.6643 - val_auc: 0.9008\n",
            "Epoch 28/35\n",
            "128/128 [==============================] - 45s 306ms/step - loss: 0.0255 - accuracy: 0.9918 - auc: 0.9996 - val_loss: 2.6821 - val_accuracy: 0.6694 - val_auc: 0.8939\n",
            "Epoch 29/35\n",
            "128/128 [==============================] - 46s 314ms/step - loss: 0.0295 - accuracy: 0.9907 - auc: 0.9996 - val_loss: 2.7385 - val_accuracy: 0.6683 - val_auc: 0.8920\n",
            "Epoch 30/35\n",
            "128/128 [==============================] - 46s 307ms/step - loss: 0.0326 - accuracy: 0.9889 - auc: 0.9996 - val_loss: 2.6058 - val_accuracy: 0.6704 - val_auc: 0.9007\n",
            "Epoch 31/35\n",
            "128/128 [==============================] - 43s 296ms/step - loss: 0.0456 - accuracy: 0.9858 - auc: 0.9991 - val_loss: 2.7355 - val_accuracy: 0.6351 - val_auc: 0.8909\n",
            "Epoch 32/35\n",
            "128/128 [==============================] - 47s 322ms/step - loss: 0.0327 - accuracy: 0.9905 - auc: 0.9995 - val_loss: 2.6993 - val_accuracy: 0.6689 - val_auc: 0.8941\n",
            "Epoch 33/35\n",
            "128/128 [==============================] - 47s 303ms/step - loss: 0.0175 - accuracy: 0.9949 - auc: 0.9997 - val_loss: 2.5293 - val_accuracy: 0.6774 - val_auc: 0.9033\n",
            "Epoch 34/35\n",
            "128/128 [==============================] - 47s 305ms/step - loss: 0.0253 - accuracy: 0.9919 - auc: 0.9996 - val_loss: 2.7786 - val_accuracy: 0.6729 - val_auc: 0.8951\n",
            "Epoch 35/35\n",
            "128/128 [==============================] - 47s 322ms/step - loss: 0.0214 - accuracy: 0.9938 - auc: 0.9997 - val_loss: 2.8195 - val_accuracy: 0.6532 - val_auc: 0.8916\n"
          ]
        }
      ],
      "source": [
        "# Adaptamos el modelo a nuestro problema\n",
        "input_layer = Input(shape=(HEIGHT, WIDTH, CHANNELS), name='input_image')\n",
        "output_conv = base_model(input_layer)\n",
        "x = Flatten(name='flatten')(output_conv) \n",
        "x = Dense(N_CLASSES, activation='softmax', name='classes')(x)\n",
        "model = Model(inputs=input_layer, outputs=x)\n",
        "opt = Adam(learning_rate=LEARNING_RATE)\n",
        "model.compile(optimizer=opt, loss=LOSS, metrics=METRICS)\n",
        "history = model.fit(train_it,\n",
        "          validation_data=validation_it,\n",
        "          steps_per_epoch=train_it.n // BATCH_SIZE,\n",
        "          validation_steps=validation_it.n // BATCH_SIZE,\n",
        "          epochs=EPOCHS,\n",
        "          workers=100,\n",
        "          use_multiprocessing=True)\n",
        "# Guardamos el modelo en un fichero\n",
        "model_filename = \"inceptionv3_all_model.h5\"\n",
        "model.save(model_filename)"
      ]
    },
    {
      "cell_type": "code",
      "source": [
        "# Cargamos las imágenes de test\n",
        "test_datagenerator = ImageDataGenerator(rescale=1./255)\n",
        "test_it = test_datagenerator.flow_from_directory(directory=TEST_DIR,\n",
        "                                                  target_size=(HEIGHT, WIDTH),\n",
        "                                                  batch_size= 1,\n",
        "                                                  class_mode=None,\n",
        "                                                  shuffle=False)\n",
        "# Reseteamos el iterador sobre las imágenes de test\n",
        "test_it.reset()\n",
        "\n",
        "# Predecimos con el modelo entrenado sobre las imágenes de test\n",
        "test_probs = model.predict(test_it, steps=test_it.samples)\n",
        "test_preds = np.argmax(test_probs, axis=1)\n",
        "print(\"\\nPredicciones: \", test_preds)\n",
        "\n",
        "# Construimos un traductor entre las etiquetas automáticamente generadas por Keras\n",
        "# y las reales a partir de los nombres de las carpetas de entrenamiento\n",
        "translated_train_labels = {train_it.class_indices[key]:int(key[:key.index(\"_\")]) \n",
        "                        for key in train_it.class_indices}\n",
        "print(\"\\nEtiquetas train: \", translated_train_labels)\n",
        "\n",
        "# Traducimos las etiquetas de test resultantes a las reales\n",
        "translated_test_preds = [translated_train_labels[label] for label in test_preds]\n",
        "print(\"\\nPredicciones reales: \", translated_test_preds)\n",
        "\n",
        "# Creamos el fichero de subida\n",
        "id_jpg_column = [test_img[(test_img.find(\"/\") + 1): ] for test_img in test_it.filenames]\n",
        "preds_dataset = pd.DataFrame({'id.jpg': id_jpg_column, 'label': translated_test_preds})\n",
        "preds_filename = \"submission_all_inception.csv\"\n",
        "preds_dataset.to_csv(preds_filename, index=False)"
      ],
      "metadata": {
        "colab": {
          "base_uri": "https://localhost:8080/"
        },
        "id": "ha2mrPxbx0L0",
        "outputId": "6aa8d2a7-5f71-4ef3-8618-c3fdeb48c47e"
      },
      "execution_count": 10,
      "outputs": [
        {
          "output_type": "stream",
          "name": "stdout",
          "text": [
            "Found 1618 images belonging to 1 classes.\n",
            "\n",
            "Predicciones:  [ 0  0  0 ... 28 28  6]\n",
            "\n",
            "Etiquetas train:  {0: 10, 1: 11, 2: 12, 3: 13, 4: 14, 5: 15, 6: 16, 7: 17, 8: 18, 9: 19, 10: 1, 11: 20, 12: 21, 13: 22, 14: 23, 15: 24, 16: 25, 17: 26, 18: 27, 19: 28, 20: 29, 21: 2, 22: 3, 23: 4, 24: 5, 25: 6, 26: 7, 27: 8, 28: 9}\n",
            "\n",
            "Predicciones reales:  [10, 10, 10, 10, 6, 10, 10, 10, 10, 11, 10, 9, 10, 10, 13, 10, 10, 10, 10, 6, 10, 16, 10, 16, 17, 10, 25, 10, 10, 10, 9, 10, 10, 10, 10, 10, 10, 11, 10, 10, 10, 11, 11, 11, 11, 11, 9, 11, 11, 11, 11, 24, 16, 11, 11, 11, 11, 11, 11, 11, 11, 11, 11, 8, 11, 11, 11, 11, 11, 11, 11, 11, 11, 11, 11, 11, 11, 11, 11, 11, 11, 11, 11, 11, 11, 11, 11, 11, 11, 11, 11, 11, 11, 11, 11, 12, 6, 12, 12, 25, 12, 12, 12, 12, 12, 12, 6, 12, 12, 12, 12, 12, 12, 12, 12, 12, 12, 7, 12, 12, 12, 12, 12, 12, 12, 12, 12, 12, 12, 12, 12, 12, 12, 12, 12, 12, 12, 12, 12, 12, 12, 12, 12, 6, 12, 12, 12, 12, 12, 12, 12, 12, 12, 6, 6, 12, 12, 6, 13, 13, 13, 13, 13, 13, 13, 13, 13, 13, 13, 8, 13, 13, 13, 13, 13, 8, 13, 16, 13, 13, 16, 13, 13, 13, 13, 13, 13, 13, 12, 13, 7, 20, 13, 13, 13, 13, 13, 13, 13, 15, 13, 12, 13, 13, 13, 13, 16, 13, 14, 13, 17, 13, 13, 13, 20, 14, 14, 14, 14, 14, 14, 14, 14, 14, 14, 14, 14, 14, 14, 14, 14, 14, 14, 14, 14, 14, 14, 14, 14, 14, 14, 14, 14, 14, 14, 14, 14, 14, 14, 14, 14, 14, 14, 14, 14, 14, 14, 14, 14, 14, 14, 14, 14, 14, 14, 14, 14, 14, 14, 14, 14, 14, 14, 14, 14, 14, 14, 14, 14, 14, 15, 15, 16, 15, 15, 9, 16, 15, 9, 15, 15, 15, 16, 18, 15, 15, 15, 15, 15, 15, 15, 16, 15, 15, 15, 15, 15, 15, 5, 16, 15, 15, 15, 15, 15, 15, 15, 15, 6, 15, 15, 16, 16, 15, 16, 16, 15, 16, 15, 15, 15, 15, 16, 16, 16, 5, 16, 16, 5, 16, 16, 16, 16, 5, 5, 5, 16, 16, 16, 16, 17, 16, 16, 16, 11, 16, 16, 15, 5, 16, 16, 5, 16, 16, 6, 16, 5, 16, 16, 16, 24, 16, 16, 15, 16, 16, 16, 16, 16, 16, 16, 6, 5, 16, 15, 6, 16, 5, 6, 16, 16, 16, 16, 12, 16, 16, 5, 16, 16, 5, 16, 8, 9, 16, 15, 11, 11, 17, 8, 17, 17, 17, 17, 11, 17, 17, 17, 17, 10, 17, 8, 10, 8, 17, 17, 10, 17, 10, 10, 17, 15, 16, 17, 17, 8, 17, 17, 17, 8, 17, 17, 16, 10, 17, 11, 11, 11, 8, 11, 11, 17, 10, 11, 11, 9, 17, 17, 17, 17, 11, 8, 8, 16, 16, 9, 17, 17, 17, 11, 17, 15, 16, 17, 17, 11, 17, 17, 17, 18, 18, 18, 18, 18, 18, 18, 18, 18, 18, 18, 18, 18, 18, 18, 18, 18, 18, 18, 18, 18, 18, 18, 18, 18, 18, 18, 18, 18, 18, 18, 18, 18, 18, 18, 18, 18, 18, 18, 18, 18, 18, 18, 18, 18, 18, 18, 18, 18, 18, 18, 18, 18, 18, 18, 18, 18, 18, 18, 18, 18, 18, 18, 18, 18, 18, 18, 18, 18, 18, 18, 18, 18, 18, 18, 18, 18, 18, 18, 18, 19, 19, 19, 19, 19, 19, 19, 20, 19, 19, 19, 20, 19, 19, 19, 19, 19, 19, 19, 19, 19, 19, 19, 19, 19, 19, 19, 19, 19, 19, 19, 19, 19, 19, 19, 19, 19, 13, 19, 19, 19, 19, 19, 19, 19, 19, 19, 20, 19, 19, 1, 1, 1, 1, 1, 1, 1, 1, 1, 1, 1, 1, 1, 1, 1, 1, 1, 1, 1, 1, 4, 1, 1, 1, 1, 1, 1, 1, 1, 1, 1, 1, 1, 20, 1, 20, 4, 1, 1, 1, 1, 15, 19, 20, 18, 19, 19, 18, 20, 20, 15, 19, 20, 20, 20, 26, 22, 20, 24, 19, 26, 20, 18, 20, 24, 26, 6, 26, 20, 20, 20, 19, 20, 19, 20, 20, 26, 20, 18, 15, 26, 18, 19, 20, 20, 20, 15, 20, 19, 15, 20, 22, 21, 21, 22, 22, 21, 21, 21, 21, 22, 21, 21, 22, 21, 21, 22, 22, 21, 21, 21, 21, 22, 21, 21, 21, 22, 22, 22, 21, 21, 22, 21, 21, 22, 22, 21, 21, 22, 22, 21, 22, 22, 21, 21, 21, 22, 21, 21, 21, 21, 21, 21, 22, 22, 21, 22, 22, 22, 21, 22, 21, 21, 11, 22, 11, 22, 22, 22, 22, 22, 22, 22, 22, 22, 21, 21, 22, 22, 22, 22, 22, 22, 21, 21, 21, 21, 21, 21, 21, 21, 22, 21, 22, 21, 22, 21, 22, 22, 22, 22, 21, 22, 22, 23, 23, 23, 23, 23, 23, 23, 23, 23, 23, 23, 23, 23, 23, 23, 23, 23, 23, 23, 23, 23, 23, 23, 23, 23, 23, 23, 23, 23, 23, 23, 23, 23, 23, 23, 23, 23, 23, 23, 23, 23, 23, 23, 23, 23, 23, 23, 23, 23, 23, 23, 23, 23, 23, 23, 23, 23, 23, 23, 23, 23, 23, 23, 23, 23, 23, 23, 23, 23, 23, 23, 23, 23, 23, 24, 20, 24, 24, 28, 24, 24, 24, 24, 24, 24, 13, 24, 26, 26, 24, 24, 24, 27, 28, 24, 24, 24, 24, 24, 25, 24, 24, 24, 24, 24, 24, 24, 25, 24, 20, 24, 17, 24, 24, 24, 24, 24, 17, 24, 24, 24, 24, 25, 24, 27, 1, 25, 25, 25, 25, 25, 25, 25, 25, 27, 25, 25, 25, 25, 25, 25, 25, 25, 25, 25, 25, 25, 25, 25, 25, 25, 25, 25, 25, 25, 25, 24, 24, 25, 25, 25, 24, 24, 25, 25, 25, 25, 25, 25, 25, 24, 25, 25, 25, 25, 25, 25, 25, 25, 25, 25, 25, 25, 25, 25, 24, 16, 10, 1, 26, 26, 26, 26, 26, 26, 26, 26, 26, 26, 26, 26, 26, 26, 16, 16, 26, 26, 26, 26, 26, 26, 28, 26, 26, 26, 26, 26, 26, 26, 26, 26, 26, 26, 26, 26, 26, 26, 28, 26, 26, 26, 26, 26, 26, 26, 26, 27, 27, 27, 27, 27, 27, 27, 27, 27, 27, 27, 27, 27, 27, 27, 27, 27, 27, 27, 27, 27, 27, 27, 27, 27, 27, 27, 27, 27, 27, 27, 27, 27, 27, 27, 27, 27, 27, 27, 27, 27, 27, 27, 27, 27, 27, 27, 27, 27, 27, 27, 27, 27, 27, 27, 27, 27, 27, 27, 27, 27, 28, 28, 28, 28, 28, 28, 28, 28, 28, 28, 28, 28, 28, 28, 28, 28, 28, 28, 28, 28, 28, 28, 28, 28, 28, 28, 28, 28, 28, 28, 28, 28, 28, 28, 28, 28, 28, 28, 28, 28, 28, 28, 28, 28, 28, 28, 28, 28, 28, 28, 28, 28, 28, 28, 28, 29, 29, 29, 29, 29, 27, 29, 29, 29, 29, 29, 29, 29, 29, 29, 29, 29, 29, 29, 29, 29, 29, 29, 29, 27, 29, 29, 29, 29, 29, 29, 29, 29, 29, 29, 29, 29, 29, 29, 29, 29, 29, 29, 29, 29, 29, 29, 29, 29, 29, 29, 2, 2, 2, 2, 2, 2, 2, 2, 2, 2, 2, 2, 2, 2, 2, 2, 2, 2, 2, 2, 2, 2, 2, 2, 2, 2, 2, 2, 2, 2, 2, 2, 2, 2, 2, 2, 2, 2, 2, 2, 2, 2, 2, 2, 2, 2, 2, 2, 2, 2, 2, 1, 1, 1, 1, 1, 3, 3, 1, 5, 6, 3, 5, 3, 4, 1, 1, 4, 3, 5, 5, 5, 3, 1, 27, 3, 5, 5, 4, 3, 26, 3, 3, 26, 5, 26, 5, 26, 1, 3, 5, 1, 5, 26, 1, 5, 5, 4, 1, 5, 3, 1, 3, 4, 4, 4, 4, 1, 4, 4, 4, 4, 4, 4, 4, 4, 4, 4, 4, 4, 4, 4, 4, 4, 4, 4, 4, 4, 4, 4, 4, 4, 4, 4, 4, 4, 1, 4, 5, 4, 4, 4, 1, 4, 4, 4, 4, 4, 4, 4, 5, 5, 5, 5, 5, 5, 5, 5, 5, 28, 6, 5, 5, 4, 6, 5, 5, 26, 5, 5, 12, 12, 5, 5, 5, 5, 5, 5, 5, 6, 4, 4, 5, 5, 6, 5, 5, 5, 16, 6, 6, 5, 5, 5, 5, 26, 6, 5, 5, 5, 5, 5, 5, 5, 1, 5, 5, 5, 6, 5, 5, 5, 6, 5, 5, 28, 6, 5, 5, 6, 5, 5, 6, 5, 5, 6, 5, 6, 5, 4, 5, 5, 5, 5, 5, 5, 5, 5, 6, 6, 6, 6, 6, 6, 6, 6, 6, 6, 6, 6, 20, 6, 6, 6, 6, 6, 6, 6, 6, 6, 6, 6, 6, 6, 6, 6, 6, 6, 6, 6, 6, 6, 6, 6, 6, 7, 7, 7, 7, 6, 7, 7, 7, 13, 20, 13, 20, 7, 7, 6, 20, 20, 6, 20, 20, 6, 7, 6, 20, 6, 6, 13, 6, 28, 6, 13, 20, 20, 6, 20, 20, 11, 11, 11, 11, 11, 8, 8, 8, 11, 17, 11, 11, 8, 8, 8, 8, 8, 8, 11, 8, 8, 8, 8, 8, 11, 8, 8, 8, 8, 11, 8, 8, 11, 8, 8, 8, 8, 8, 8, 11, 8, 8, 8, 8, 8, 8, 8, 8, 8, 14, 8, 8, 11, 8, 8, 8, 11, 17, 11, 9, 11, 9, 9, 16, 9, 9, 11, 9, 9, 9, 15, 16, 15, 16, 9, 11, 11, 9, 15, 9, 10, 9, 9, 9, 9, 9, 20, 9, 16, 16, 17, 15, 9, 28, 9, 16, 15, 16, 16, 9, 9, 16]\n"
          ]
        }
      ]
    },
    {
      "cell_type": "code",
      "source": [
        "# Gráfica de la evolución de entrenamiento y validación durante las épocas\n",
        "import matplotlib.pyplot as plt\n",
        "\n",
        "acc = history.history['accuracy']\n",
        "val_acc = history.history['val_accuracy']\n",
        "plt.figure(figsize=(8, 8))\n",
        "plt.subplot(2, 1, 1)\n",
        "plt.plot(acc, label='Training Accuracy')\n",
        "plt.plot(val_acc, label='Validation Accuracy')\n",
        "plt.legend(loc='lower right')\n",
        "plt.ylabel('Accuracy')\n",
        "plt.ylim([min(plt.ylim()),1])\n",
        "plt.title('Training and Validation Accuracy')"
      ],
      "metadata": {
        "colab": {
          "base_uri": "https://localhost:8080/",
          "height": 279
        },
        "id": "pWy0ZSely2o-",
        "outputId": "0d16f013-45b4-42d9-866c-a4cdb8cfa1db"
      },
      "execution_count": 11,
      "outputs": [
        {
          "output_type": "execute_result",
          "data": {
            "text/plain": [
              "Text(0.5, 1.0, 'Training and Validation Accuracy')"
            ]
          },
          "metadata": {},
          "execution_count": 11
        },
        {
          "output_type": "display_data",
          "data": {
            "text/plain": [
              "<Figure size 576x576 with 1 Axes>"
            ],
            "image/png": "[encoded data removed]"
          },
          "metadata": {
            "needs_background": "light"
          }
        }
      ]
    }
  ],
  "metadata": {
    "accelerator": "GPU",
    "colab": {
      "machine_shape": "hm",
      "name": "inceptionv3_finetuning.ipynb",
      "provenance": [],
      "collapsed_sections": []
    },
    "kernelspec": {
      "display_name": "Python 3",
      "name": "python3"
    },
    "language_info": {
      "name": "python"
    }
  },
  "nbformat": 4,
  "nbformat_minor": 0
}